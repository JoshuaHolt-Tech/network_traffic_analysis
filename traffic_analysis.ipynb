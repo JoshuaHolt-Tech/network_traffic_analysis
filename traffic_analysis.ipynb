{
 "cells": [
  {
   "cell_type": "markdown",
   "id": "ba899145-0c6b-4b16-82a0-a70a634dc451",
   "metadata": {},
   "source": [
    "# Objective: \n",
    "\n",
    "The aim is to analyze network traffic to detect any anomalies or suspicious activities."
   ]
  },
  {
   "cell_type": "markdown",
   "id": "56ef0ba4-4353-4f5a-8d50-983a81866089",
   "metadata": {},
   "source": [
    "## Data: \n",
    "\n",
    "CICIDS 2017 dataset, which includes a wide range of attacks and normal traffic. It's available here:\n",
    "\n",
    "https://www.unb.ca/cic/datasets/ids-2017.html"
   ]
  },
  {
   "cell_type": "markdown",
   "id": "ab54c111-954f-4502-9b3c-7b392586ab17",
   "metadata": {},
   "source": [
    "## Procedure: \n",
    "\n",
    "Acquire from https://www.unb.ca/cic/datasets/ids-2017.html.\n",
    "\n",
    "Preprocess\n",
    "\n",
    "Exploratory data analysis\n",
    "\n",
    "Classification machine learning algorithms:\n",
    "- Logistic Regression\n",
    "- Random Forest\n",
    "- Gradient Boosting\n",
    "- XGBoost\n"
   ]
  },
  {
   "cell_type": "markdown",
   "id": "a55a043a-1258-47bf-a52e-638dffbda433",
   "metadata": {},
   "source": [
    "## Resources:"
   ]
  },
  {
   "cell_type": "markdown",
   "id": "ed6b94da-d35d-4346-b5ad-a17514311118",
   "metadata": {},
   "source": [
    "### Websites:\n",
    "\n",
    "https://www.studytonight.com/network-programming-in-python/analyzing-network-traffic\n",
    "https://plainenglish.io/blog/network-traffic-analysis-with-python-f95ed4e76c28\n",
    "\n",
    "#### pcap files into DataFrames:\n",
    "\n",
    "https://www.automox.com/blog/visualizing-network-data-using-python-part-1\n",
    "\n",
    "https://www.automox.com/blog/visualizing-network-data-using-python-part-2\n",
    "\n",
    "https://www.automox.com/blog/visualizing-network-data-using-python-part-3\n",
    "\n",
    "#### Network Traffic Visualization (Geolocation):\n",
    "https://medium.com/vinsloev-academy/python-cybersecurity-network-tracking-using-wireshark-and-google-maps-2adf3e497a93\n",
    "\n",
    "#### Examples for malware traffic analysis:\n",
    "https://www.malware-traffic-analysis.net/2021/index.html\n",
    "\n",
    "#### Specific indicator of compromise:\n",
    "https://cylab.be/blog/245/network-traffic-analysis-with-python-scapy-and-some-machine-learning\n",
    "\n",
    "### YouTube:\n",
    "https://www.youtube.com/watch?v=oA7QhYOhW_0\n",
    "https://www.youtube.com/watch?v=xuNuy8n8u-Y\n",
    "\n",
    "### LinkedIn Learning:\n",
    "https://www.linkedin.com/learning/applied-ai-for-it-operations-aiops/network-traffic-analysis\n",
    "\n",
    "### Books:\n",
    "https://www.techtarget.com/searchnetworking/feature/Learn-how-to-master-network-traffic-analysis-with-Python"
   ]
  },
  {
   "cell_type": "markdown",
   "id": "c877e0d5-5d3e-441b-b2eb-9234a791c3ea",
   "metadata": {},
   "source": [
    "Research paper:\n",
    "https://www.scitepress.org/papers/2018/66398/66398.pdf"
   ]
  },
  {
   "cell_type": "markdown",
   "id": "7e299ef6-b90d-433a-bfb5-e2f2a7f8968a",
   "metadata": {},
   "source": [
    "### Current Tasks\n",
    "- Practise reading pcap files.\n",
    "- Figure out a way to capture pcap files from the notebook.\n",
    "- Identify indicators of compromise.\n",
    "- Parallel processing?"
   ]
  },
  {
   "cell_type": "markdown",
   "id": "5322a109-04be-44ad-b563-1c3ae9e91b2d",
   "metadata": {},
   "source": [
    "## Code:"
   ]
  },
  {
   "cell_type": "code",
   "execution_count": 1,
   "id": "89056a60-4bcd-4c53-829d-c0e2e6263845",
   "metadata": {},
   "outputs": [],
   "source": [
    "#Imports\n",
    "from scapy.all import *\n",
    "from scapy.utils import PcapReader\n",
    "import os, psutil, statistics, multiprocessing\n",
    "import pandas as pd\n",
    "import numpy as np\n",
    "from prepare import *\n",
    "from analize import *\n"
   ]
  },
  {
   "cell_type": "code",
   "execution_count": 2,
   "id": "387b8ace-93eb-42fa-ac1f-53aa4f419016",
   "metadata": {},
   "outputs": [],
   "source": [
    "#Preferences\n",
    "pd.set_option('display.max_rows', None)\n",
    "pd.set_option('display.max_columns', None)\n",
    "pd.set_option('display.float_format', lambda x: f'{x:.3f}')"
   ]
  },
  {
   "cell_type": "code",
   "execution_count": 3,
   "id": "e400cb2f-776d-425f-b4f4-fbb2a371c066",
   "metadata": {},
   "outputs": [],
   "source": [
    "#Get traffic data in CSV format:\n",
    "load_data = False\n",
    "if load_data == True:\n",
    "    mon0 = fixing_col_names(pd.read_csv(\"csv_files/Monday-WorkingHours.pcap_ISCX.csv\"))\n",
    "    tues0 = fixing_col_names(pd.read_csv(\"csv_files/Tuesday-WorkingHours.pcap_ISCX.csv\"))\n",
    "    wed0 = fixing_col_names(pd.read_csv(\"csv_files/Wednesday-WorkingHours.pcap_ISCX.csv\"))\n",
    "    thur0 = fixing_col_names(pd.read_csv(\"csv_files/Thursday-WorkingHours-Morning-WebAttacks.pcap_ISCX.csv\"))\n",
    "    thur1 = fixing_col_names(pd.read_csv(\"csv_files/Thursday-WorkingHours-Afternoon-Infilteration.pcap_ISCX.csv\"))\n",
    "    fri0 = fixing_col_names(pd.read_csv(\"csv_files/Friday-WorkingHours-Morning.pcap_ISCX.csv\"))\n",
    "    fri1 = fixing_col_names(pd.read_csv(\"csv_files/Friday-WorkingHours-Afternoon-DDos.pcap_ISCX.csv\"))\n",
    "    fri2 = fixing_col_names(pd.read_csv(\"csv_files/Friday-WorkingHours-Afternoon-PortScan.pcap_ISCX.csv\"))"
   ]
  },
  {
   "cell_type": "code",
   "execution_count": 4,
   "id": "1749111c-8659-40e5-941b-31ae0f1a0fd4",
   "metadata": {},
   "outputs": [
    {
     "name": "stdout",
     "output_type": "stream",
     "text": [
      "Pcap file size: 8.839 GB\n",
      "Pcap file size: 10.823 GB\n",
      "Pcap file size: 0.047 GB\n",
      "Pcap file size: 8.303 GB\n",
      "Pcap file size: 11.048 GB\n",
      "Pcap file size: 13.421 GB\n",
      "Available memory: 28.187 GB\n"
     ]
    }
   ],
   "source": [
    "#Measuring size of pcap files:\n",
    "for file in os.listdir(\"pcap_files\"):\n",
    "    print(f\"Pcap file size: {os.path.getsize(f'pcap_files//{file}')/1_000_000_000:.3f} GB\")\n",
    "#Monday has 11,709,971 packets and is 10.823 GB.\n",
    "#Tuesday has 11,551,954 packets and is 11.048 GB\n",
    "#Wednesday has 13,788,878 packets and is 13.421 GB.\n",
    "#Thursday has 9,322,025 packets and is 8.3 GB.\n",
    "#Friday has 9,997,874 packets and is 8.839 GB.\n",
    "#test0 has 67036 packets and is 47256430 bites\n",
    "#System memory:\n",
    "print(f\"Available memory: {psutil.virtual_memory()[1]/1_000_000_000:.3f} GB\")"
   ]
  },
  {
   "cell_type": "code",
   "execution_count": 5,
   "id": "1e55845b-6a24-445e-81b1-7b5504d4a7ea",
   "metadata": {},
   "outputs": [],
   "source": [
    "#`PcapReader()` iterates though the pcap entries. Creates generator object.\n",
    "# You must create a new generator object everytime it is used.\n",
    "#`rdpcap()` loads all pcap entries in memory at once. Takes a very long time and can fill up memory."
   ]
  },
  {
   "cell_type": "code",
   "execution_count": 6,
   "id": "533b6621-a608-4ec5-b852-6585aabf323c",
   "metadata": {},
   "outputs": [
    {
     "name": "stdout",
     "output_type": "stream",
     "text": [
      "Physical Cores= 6\n",
      "Logical Cores= 12\n"
     ]
    }
   ],
   "source": [
    "print('Physical Cores=', psutil.cpu_count(logical=False))\n",
    "print('Logical Cores=',  psutil.cpu_count(logical=True))"
   ]
  },
  {
   "cell_type": "code",
   "execution_count": 7,
   "id": "38899329-3395-48f7-9373-3cc309a87700",
   "metadata": {},
   "outputs": [],
   "source": [
    "#Generator object for pcap file:\n",
    "pcap_file = \"pcap_files/Friday-WorkingHours.pcap\""
   ]
  },
  {
   "cell_type": "code",
   "execution_count": 8,
   "id": "6278fe8b-b401-4983-8fe6-b6414e4fb788",
   "metadata": {},
   "outputs": [
    {
     "name": "stdout",
     "output_type": "stream",
     "text": [
      "9997874\n"
     ]
    }
   ],
   "source": [
    "i = 0\n",
    "for item in PcapReader(pcap_file):\n",
    "    i += 1\n",
    "print(i)"
   ]
  },
  {
   "cell_type": "code",
   "execution_count": 9,
   "id": "f3758776-f322-4f05-ad31-24156b179d1c",
   "metadata": {},
   "outputs": [],
   "source": [
    "#file_size and chunk_size are not being measured with the same units...\n",
    "file_size = os.path.getsize(pcap_file)"
   ]
  },
  {
   "cell_type": "code",
   "execution_count": 10,
   "id": "2361f2ce-1f54-4c34-b9d8-dfdc356cb293",
   "metadata": {},
   "outputs": [],
   "source": [
    "if (os.path.getsize(pcap_file)/1_000_000_000) > 4:\n",
    "    chunk_size = 2_500_000\n",
    "else:\n",
    "    chunk_size = 5_000_000"
   ]
  },
  {
   "cell_type": "code",
   "execution_count": 11,
   "id": "e2bad9c9-8369-419d-a1ed-23f5f4dce3ae",
   "metadata": {},
   "outputs": [
    {
     "name": "stdout",
     "output_type": "stream",
     "text": [
      "2500000\n"
     ]
    }
   ],
   "source": [
    "print(chunk_size)"
   ]
  },
  {
   "cell_type": "code",
   "execution_count": 12,
   "id": "9a2e1095-b1e2-4506-a3b3-e2dd7cacafb4",
   "metadata": {},
   "outputs": [
    {
     "data": {
      "text/plain": [
       "8839309056"
      ]
     },
     "execution_count": 12,
     "metadata": {},
     "output_type": "execute_result"
    }
   ],
   "source": [
    "file_size"
   ]
  },
  {
   "cell_type": "code",
   "execution_count": 13,
   "id": "b4684238-cac3-45b3-9650-9b2d1a6afd3d",
   "metadata": {},
   "outputs": [
    {
     "name": "stdout",
     "output_type": "stream",
     "text": [
      "2500000\n"
     ]
    }
   ],
   "source": [
    "print(chunk_size)"
   ]
  },
  {
   "cell_type": "code",
   "execution_count": 14,
   "id": "9cfb9918-89c0-4b9d-8d44-163fd7997e7a",
   "metadata": {},
   "outputs": [],
   "source": [
    "pool = multiprocessing.Pool(4)"
   ]
  },
  {
   "cell_type": "code",
   "execution_count": 15,
   "id": "06c2a48f-1837-45ca-a5f6-c4ee7057a298",
   "metadata": {},
   "outputs": [
    {
     "ename": "KeyboardInterrupt",
     "evalue": "",
     "output_type": "error",
     "traceback": [
      "\u001b[1;31m---------------------------------------------------------------------------\u001b[0m",
      "\u001b[1;31mKeyboardInterrupt\u001b[0m                         Traceback (most recent call last)",
      "Cell \u001b[1;32mIn[15], line 4\u001b[0m\n\u001b[0;32m      2\u001b[0m chunks \u001b[38;5;241m=\u001b[39m []\n\u001b[0;32m      3\u001b[0m chunk \u001b[38;5;241m=\u001b[39m []\n\u001b[1;32m----> 4\u001b[0m \u001b[38;5;28;01mfor\u001b[39;00m packet \u001b[38;5;129;01min\u001b[39;00m PcapReader(pcap_file):\n\u001b[0;32m      5\u001b[0m     chunk\u001b[38;5;241m.\u001b[39mappend(packet)\n\u001b[0;32m      6\u001b[0m     \u001b[38;5;28;01mif\u001b[39;00m \u001b[38;5;28mlen\u001b[39m(chunk) \u001b[38;5;241m>\u001b[39m\u001b[38;5;241m=\u001b[39m chunk_size:\n",
      "File \u001b[1;32mC:\\ProgramData\\anaconda3\\lib\\site-packages\\scapy\\utils.py:1278\u001b[0m, in \u001b[0;36mRawPcapReader.__next__\u001b[1;34m(self)\u001b[0m\n\u001b[0;32m   1276\u001b[0m \u001b[38;5;28;01mdef\u001b[39;00m \u001b[38;5;21m__next__\u001b[39m(\u001b[38;5;28mself\u001b[39m):\n\u001b[0;32m   1277\u001b[0m     \u001b[38;5;66;03m# type: () -> Packet\u001b[39;00m\n\u001b[1;32m-> 1278\u001b[0m     \u001b[38;5;28;01mreturn\u001b[39;00m \u001b[38;5;28;43mself\u001b[39;49m\u001b[38;5;241;43m.\u001b[39;49m\u001b[43mnext\u001b[49m\u001b[43m(\u001b[49m\u001b[43m)\u001b[49m\n",
      "File \u001b[1;32mC:\\ProgramData\\anaconda3\\lib\\site-packages\\scapy\\utils.py:1407\u001b[0m, in \u001b[0;36mPcapReader.next\u001b[1;34m(self)\u001b[0m\n\u001b[0;32m   1404\u001b[0m \u001b[38;5;28;01mdef\u001b[39;00m \u001b[38;5;21mnext\u001b[39m(\u001b[38;5;28mself\u001b[39m):\n\u001b[0;32m   1405\u001b[0m     \u001b[38;5;66;03m# type: () -> Packet\u001b[39;00m\n\u001b[0;32m   1406\u001b[0m     \u001b[38;5;28;01mtry\u001b[39;00m:\n\u001b[1;32m-> 1407\u001b[0m         \u001b[38;5;28;01mreturn\u001b[39;00m \u001b[38;5;28;43mself\u001b[39;49m\u001b[38;5;241;43m.\u001b[39;49m\u001b[43mread_packet\u001b[49m\u001b[43m(\u001b[49m\u001b[43m)\u001b[49m\n\u001b[0;32m   1408\u001b[0m     \u001b[38;5;28;01mexcept\u001b[39;00m \u001b[38;5;167;01mEOFError\u001b[39;00m:\n\u001b[0;32m   1409\u001b[0m         \u001b[38;5;28;01mraise\u001b[39;00m \u001b[38;5;167;01mStopIteration\u001b[39;00m\n",
      "File \u001b[1;32mC:\\ProgramData\\anaconda3\\lib\\site-packages\\scapy\\utils.py:1728\u001b[0m, in \u001b[0;36mPcapNgReader.read_packet\u001b[1;34m(self, size)\u001b[0m\n\u001b[0;32m   1726\u001b[0m \u001b[38;5;28;01mdef\u001b[39;00m \u001b[38;5;21mread_packet\u001b[39m(\u001b[38;5;28mself\u001b[39m, size\u001b[38;5;241m=\u001b[39mMTU):\n\u001b[0;32m   1727\u001b[0m     \u001b[38;5;66;03m# type: (int) -> Packet\u001b[39;00m\n\u001b[1;32m-> 1728\u001b[0m     rp \u001b[38;5;241m=\u001b[39m \u001b[38;5;28;43msuper\u001b[39;49m\u001b[43m(\u001b[49m\u001b[43mPcapNgReader\u001b[49m\u001b[43m,\u001b[49m\u001b[43m \u001b[49m\u001b[38;5;28;43mself\u001b[39;49m\u001b[43m)\u001b[49m\u001b[38;5;241;43m.\u001b[39;49m\u001b[43m_read_packet\u001b[49m\u001b[43m(\u001b[49m\u001b[43msize\u001b[49m\u001b[38;5;241;43m=\u001b[39;49m\u001b[43msize\u001b[49m\u001b[43m)\u001b[49m\n\u001b[0;32m   1729\u001b[0m     \u001b[38;5;28;01mif\u001b[39;00m rp \u001b[38;5;129;01mis\u001b[39;00m \u001b[38;5;28;01mNone\u001b[39;00m:\n\u001b[0;32m   1730\u001b[0m         \u001b[38;5;28;01mraise\u001b[39;00m \u001b[38;5;167;01mEOFError\u001b[39;00m\n",
      "File \u001b[1;32mC:\\ProgramData\\anaconda3\\lib\\site-packages\\scapy\\utils.py:1526\u001b[0m, in \u001b[0;36mRawPcapNgReader._read_packet\u001b[1;34m(self, size)\u001b[0m\n\u001b[0;32m   1520\u001b[0m \u001b[38;5;250m\u001b[39m\u001b[38;5;124;03m\"\"\"Read blocks until it reaches either EOF or a packet, and\u001b[39;00m\n\u001b[0;32m   1521\u001b[0m \u001b[38;5;124;03mreturns None or (packet, (linktype, sec, usec, wirelen)),\u001b[39;00m\n\u001b[0;32m   1522\u001b[0m \u001b[38;5;124;03mwhere packet is a string.\u001b[39;00m\n\u001b[0;32m   1523\u001b[0m \n\u001b[0;32m   1524\u001b[0m \u001b[38;5;124;03m\"\"\"\u001b[39;00m\n\u001b[0;32m   1525\u001b[0m \u001b[38;5;28;01mwhile\u001b[39;00m \u001b[38;5;28;01mTrue\u001b[39;00m:\n\u001b[1;32m-> 1526\u001b[0m     res \u001b[38;5;241m=\u001b[39m \u001b[38;5;28;43mself\u001b[39;49m\u001b[38;5;241;43m.\u001b[39;49m\u001b[43m_read_block\u001b[49m\u001b[43m(\u001b[49m\u001b[43m)\u001b[49m\n\u001b[0;32m   1527\u001b[0m     \u001b[38;5;28;01mif\u001b[39;00m res \u001b[38;5;129;01mis\u001b[39;00m \u001b[38;5;129;01mnot\u001b[39;00m \u001b[38;5;28;01mNone\u001b[39;00m:\n\u001b[0;32m   1528\u001b[0m         \u001b[38;5;28;01mreturn\u001b[39;00m res\n",
      "File \u001b[1;32mC:\\ProgramData\\anaconda3\\lib\\site-packages\\scapy\\utils.py:1478\u001b[0m, in \u001b[0;36mRawPcapNgReader._read_block\u001b[1;34m(self, size)\u001b[0m\n\u001b[0;32m   1476\u001b[0m     warning(\u001b[38;5;124m\"\u001b[39m\u001b[38;5;124mInvalid block length !\u001b[39m\u001b[38;5;124m\"\u001b[39m)\n\u001b[0;32m   1477\u001b[0m     \u001b[38;5;28;01mraise\u001b[39;00m \u001b[38;5;167;01mEOFError\u001b[39;00m\n\u001b[1;32m-> 1478\u001b[0m block \u001b[38;5;241m=\u001b[39m \u001b[38;5;28;43mself\u001b[39;49m\u001b[38;5;241;43m.\u001b[39;49m\u001b[43mf\u001b[49m\u001b[38;5;241;43m.\u001b[39;49m\u001b[43mread\u001b[49m\u001b[43m(\u001b[49m\u001b[43mblocklen\u001b[49m\u001b[43m \u001b[49m\u001b[38;5;241;43m-\u001b[39;49m\u001b[43m \u001b[49m\u001b[38;5;241;43m12\u001b[39;49m\u001b[43m)\u001b[49m\n\u001b[0;32m   1479\u001b[0m \u001b[38;5;28mself\u001b[39m\u001b[38;5;241m.\u001b[39m_read_block_tail(blocklen)\n\u001b[0;32m   1480\u001b[0m \u001b[38;5;28;01mreturn\u001b[39;00m \u001b[38;5;28mself\u001b[39m\u001b[38;5;241m.\u001b[39mblocktypes\u001b[38;5;241m.\u001b[39mget(\n\u001b[0;32m   1481\u001b[0m     blocktype,\n\u001b[0;32m   1482\u001b[0m     \u001b[38;5;28;01mlambda\u001b[39;00m block, size: \u001b[38;5;28;01mNone\u001b[39;00m\n\u001b[0;32m   1483\u001b[0m )(block, size)\n",
      "\u001b[1;31mKeyboardInterrupt\u001b[0m: "
     ]
    }
   ],
   "source": [
    "#Breaking data into chunks and applying function.\n",
    "chunks = []\n",
    "chunk = []\n",
    "for packet in PcapReader(pcap_file):\n",
    "    chunk.append(packet)\n",
    "    if len(chunk) >= chunk_size:\n",
    "        print(len(chunk))\n",
    "        chunks.append(chunk)\n",
    "        chunk = []\n",
    "if chunk:\n",
    "    chunks.append(chunk)\n",
    "print(len(chunk))\n",
    "print(len(chunks))\n",
    "print(f\"Available memory: {psutil.virtual_memory()[1]/1_000_000_000:.3f} GB\")\n",
    "results = pool.map(get_ioc_counts0, chunks)"
   ]
  },
  {
   "cell_type": "code",
   "execution_count": null,
   "id": "3330564d-de0d-429e-98cc-b2313c9ffe59",
   "metadata": {},
   "outputs": [],
   "source": [
    "pool.close()\n",
    "pool.join()"
   ]
  },
  {
   "cell_type": "code",
   "execution_count": null,
   "id": "3b5b675d-420b-48d8-9d52-8ade57af71ea",
   "metadata": {},
   "outputs": [],
   "source": [
    "\"\"\"\n",
    "Returning a list of three items (dns_counts, ip_counts, seq_counts).\n",
    "Verified that the returned lists done in parallel are the same as if they were done in series.\n",
    "\"\"\"\n",
    "dns_counts = results[0][0]\n",
    "ip_counts = results[0][1]\n",
    "seq_counts = results[0][2]"
   ]
  },
  {
   "cell_type": "code",
   "execution_count": null,
   "id": "633c3ba7-ecfd-48d0-8edb-ddfd446836b6",
   "metadata": {},
   "outputs": [],
   "source": [
    "print(f\"DNS counts: {len(dns_counts)}\")\n",
    "print(f\"IP counts: {len(ip_counts)}\")\n",
    "print(f\"SEQ counts: {len(seq_counts)}\")"
   ]
  },
  {
   "cell_type": "code",
   "execution_count": null,
   "id": "860ceefc-d1a1-4c22-a3d5-4397c12078b9",
   "metadata": {},
   "outputs": [],
   "source": [
    "#Establishes threshhold to flag packets\n",
    "dns_threshold = set_threshold(dns_counts)\n",
    "ip_threshold = set_threshold(ip_counts)\n",
    "seq_threshold = set_threshold(seq_counts, sigma_value=4)"
   ]
  },
  {
   "cell_type": "code",
   "execution_count": null,
   "id": "cfeccd6d-ef5b-472d-877f-d936d78e46db",
   "metadata": {},
   "outputs": [],
   "source": [
    "#Returns sets of packet attributes that exceed threshold\n",
    "sus_dns = eval_packets(dns_threshold, dns_counts)\n",
    "sus_ip = eval_packets(ip_threshold, ip_counts)\n",
    "sus_seq = eval_packets(seq_threshold, seq_counts)"
   ]
  },
  {
   "cell_type": "code",
   "execution_count": null,
   "id": "0c99ad20-7431-4817-8bef-cd10aeb67164",
   "metadata": {},
   "outputs": [],
   "source": [
    "sus_packets = []"
   ]
  },
  {
   "cell_type": "code",
   "execution_count": null,
   "id": "24c575ff-f390-4e2e-b2f1-70bd514f6cef",
   "metadata": {},
   "outputs": [],
   "source": [
    "j = 0\n",
    "\n",
    "for packet in PcapReader(pcap_file):\n",
    "    #Add section to collect suspicious DNS packets\n",
    "    \n",
    "    #Add section to collect suspicious IP packets\n",
    "\n",
    "    #Collect packets with suspicious TCP sequence numbers:\n",
    "    if packet.haslayer(TCP) and (int(packet[TCP].seq) in sus_seq):\n",
    "        sus_packets.append(packet)\n",
    "\n",
    "    #Progress updates:\n",
    "    j += 1\n",
    "    if j % 1_000_000 == 0:\n",
    "        print(f\"{j} packets processed\")"
   ]
  },
  {
   "cell_type": "code",
   "execution_count": null,
   "id": "b4111a33-5ca4-489f-9d5c-6d4a91c5ec77",
   "metadata": {},
   "outputs": [],
   "source": [
    "sus_df = packets_to_dataframe(sus_packets)"
   ]
  },
  {
   "cell_type": "code",
   "execution_count": null,
   "id": "3cecf39c-f594-42b0-9b7a-c5a984353255",
   "metadata": {},
   "outputs": [],
   "source": [
    "sus_df.iloc[0]"
   ]
  },
  {
   "cell_type": "code",
   "execution_count": null,
   "id": "4e3bd21e-d117-475d-991e-43e08024f585",
   "metadata": {},
   "outputs": [],
   "source": [
    "sus_df.Src_MAC.value_counts()"
   ]
  },
  {
   "cell_type": "code",
   "execution_count": null,
   "id": "eac10b92-0585-49db-ba5f-8e506deb0886",
   "metadata": {},
   "outputs": [],
   "source": [
    "sus_df.Dst_MAC.value_counts()"
   ]
  },
  {
   "cell_type": "code",
   "execution_count": null,
   "id": "39d949b3-5da6-43ec-bd11-cef54620f889",
   "metadata": {},
   "outputs": [],
   "source": [
    "sus_df.Src_IP.value_counts()"
   ]
  },
  {
   "cell_type": "code",
   "execution_count": null,
   "id": "71c229c0-f92b-48cd-beaa-f47690ce0a84",
   "metadata": {},
   "outputs": [],
   "source": [
    "sus_df.Dst_IP.value_counts()"
   ]
  },
  {
   "cell_type": "code",
   "execution_count": null,
   "id": "80fbf307-f7f1-4a26-9293-6ba4ca7a5885",
   "metadata": {},
   "outputs": [],
   "source": [
    "#View traffic from csv files\n",
    "#mon0.head()\n",
    "#tues0.head()\n",
    "#wed0.head()\n",
    "#thur0.head()\n",
    "#thur1.head()\n",
    "#fri0.head()\n",
    "#fri1.head()\n",
    "#fri2.head()"
   ]
  },
  {
   "cell_type": "code",
   "execution_count": null,
   "id": "37deadd3-b3ab-4fea-b64c-e60fdef36221",
   "metadata": {},
   "outputs": [],
   "source": [
    "#tues0[tues0[\"Label\"] == \"FTP-Patator\"].describe().T"
   ]
  },
  {
   "cell_type": "code",
   "execution_count": null,
   "id": "04560394-ddad-4e09-98b0-96ff955d4d41",
   "metadata": {},
   "outputs": [],
   "source": [
    "#mon0[\"Label\"].value_counts()"
   ]
  },
  {
   "cell_type": "code",
   "execution_count": null,
   "id": "3012497c-a9c4-439f-b280-2dc2ddd58db6",
   "metadata": {},
   "outputs": [],
   "source": [
    "#tues0[\"Label\"].value_counts()"
   ]
  },
  {
   "cell_type": "code",
   "execution_count": null,
   "id": "859faf27-165f-4168-8c94-e5d21c3fccb1",
   "metadata": {},
   "outputs": [],
   "source": [
    "#wed0[\"Label\"].value_counts()"
   ]
  },
  {
   "cell_type": "code",
   "execution_count": null,
   "id": "928c032d-38e9-4e2b-9fd2-500e70041ae5",
   "metadata": {},
   "outputs": [],
   "source": [
    "#thur0[\"Label\"].value_counts()"
   ]
  },
  {
   "cell_type": "code",
   "execution_count": null,
   "id": "b865b100-8ccd-43a2-90f8-a2826a296e70",
   "metadata": {},
   "outputs": [],
   "source": [
    "#thur1[\"Label\"].value_counts()"
   ]
  },
  {
   "cell_type": "code",
   "execution_count": null,
   "id": "aabc4f6f-3b22-4b4a-bdf1-4b2548fb335a",
   "metadata": {},
   "outputs": [],
   "source": [
    "#fri0[\"Label\"].value_counts()"
   ]
  },
  {
   "cell_type": "code",
   "execution_count": null,
   "id": "59884b90-67c8-4cd7-9196-8262a54dbf07",
   "metadata": {},
   "outputs": [],
   "source": [
    "#fri1[\"Label\"].value_counts()"
   ]
  },
  {
   "cell_type": "code",
   "execution_count": null,
   "id": "076f2e10-925f-4550-b8b5-50791efbe936",
   "metadata": {},
   "outputs": [],
   "source": [
    "#fri2[\"Label\"].value_counts()"
   ]
  },
  {
   "cell_type": "code",
   "execution_count": null,
   "id": "66601bb3-4613-44ba-a0d2-3ee76728f1a7",
   "metadata": {},
   "outputs": [],
   "source": []
  }
 ],
 "metadata": {
  "kernelspec": {
   "display_name": "Python 3 (ipykernel)",
   "language": "python",
   "name": "python3"
  },
  "language_info": {
   "codemirror_mode": {
    "name": "ipython",
    "version": 3
   },
   "file_extension": ".py",
   "mimetype": "text/x-python",
   "name": "python",
   "nbconvert_exporter": "python",
   "pygments_lexer": "ipython3",
   "version": "3.10.9"
  }
 },
 "nbformat": 4,
 "nbformat_minor": 5
}
