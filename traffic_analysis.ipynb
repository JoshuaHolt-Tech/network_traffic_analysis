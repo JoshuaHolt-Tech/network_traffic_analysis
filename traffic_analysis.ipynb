{
 "cells": [
  {
   "cell_type": "markdown",
   "id": "ba899145-0c6b-4b16-82a0-a70a634dc451",
   "metadata": {},
   "source": [
    "# Objective: \n",
    "\n",
    "The aim is to analyze network traffic to detect any anomalies or suspicious activities."
   ]
  },
  {
   "cell_type": "markdown",
   "id": "56ef0ba4-4353-4f5a-8d50-983a81866089",
   "metadata": {},
   "source": [
    "## Data: \n",
    "\n",
    "CICIDS 2017 dataset, which includes a wide range of attacks and normal traffic. It's available here:\n",
    "\n",
    "https://www.unb.ca/cic/datasets/ids-2017.html"
   ]
  },
  {
   "cell_type": "markdown",
   "id": "ab54c111-954f-4502-9b3c-7b392586ab17",
   "metadata": {},
   "source": [
    "## Procedure: \n",
    "\n",
    "Acquire from https://www.unb.ca/cic/datasets/ids-2017.html.\n",
    "\n",
    "Preprocess\n",
    "\n",
    "Exploratory data analysis\n",
    "\n",
    "Classification machine learning algorithms:\n",
    "- Logistic Regression\n",
    "- Random Forest\n",
    "- Gradient Boosting\n",
    "- XGBoost\n"
   ]
  },
  {
   "cell_type": "markdown",
   "id": "2b1d455d-47c2-4df8-899d-ccded582928a",
   "metadata": {},
   "source": [
    "## Extra notes:"
   ]
  },
  {
   "cell_type": "markdown",
   "id": "0e4b215b-5cd5-4bef-92aa-c310ad43f690",
   "metadata": {},
   "source": [
    "Reference this site for putting pcap files into DataFrames:\n",
    "\n",
    "https://www.automox.com/blog/visualizing-network-data-using-python-part-1\n",
    "\n",
    "https://www.automox.com/blog/visualizing-network-data-using-python-part-2\n",
    "\n",
    "https://www.automox.com/blog/visualizing-network-data-using-python-part-3\n",
    "\n",
    "Found a whole site dedicated to malware traffic analysis:\n",
    "https://www.malware-traffic-analysis.net/2021/index.html\n",
    "\n",
    "Blog on a specific indicator of compromise:\n",
    "https://cylab.be/blog/245/network-traffic-analysis-with-python-scapy-and-some-machine-learning"
   ]
  },
  {
   "cell_type": "markdown",
   "id": "c877e0d5-5d3e-441b-b2eb-9234a791c3ea",
   "metadata": {},
   "source": [
    "Research paper from the creators of the dataset: Iman Sharafaldin, Arash Habibi Lashkari, and Ali A. Ghorbani, “Toward Generating a New Intrusion Detection Dataset and Intrusion Traffic Characterization”, 4th International Conference on Information Systems Security and Privacy (ICISSP), Purtogal, January 2018"
   ]
  },
  {
   "cell_type": "markdown",
   "id": "7e299ef6-b90d-433a-bfb5-e2f2a7f8968a",
   "metadata": {},
   "source": [
    "### Current Tasks\n",
    "- Check for null values.\n",
    "- Minority inbalance in several cases. Does that matter for anomaly detection?\n",
    "- Time series analysis – need to obtain timestamp."
   ]
  },
  {
   "cell_type": "markdown",
   "id": "5322a109-04be-44ad-b563-1c3ae9e91b2d",
   "metadata": {},
   "source": [
    "## Code:"
   ]
  },
  {
   "cell_type": "code",
   "execution_count": 1,
   "id": "89056a60-4bcd-4c53-829d-c0e2e6263845",
   "metadata": {},
   "outputs": [],
   "source": [
    "#Imports\n",
    "from scapy.all import *\n",
    "from collections import Counter\n",
    "from prettytable import PrettyTable\n",
    "import plotly\n",
    "from datetime import datetime\n",
    "import pandas as pd\n",
    "import numpy as np\n",
    "from prepare import *\n",
    "import os\n",
    "import psutil\n",
    "import networkx"
   ]
  },
  {
   "cell_type": "code",
   "execution_count": 2,
   "id": "387b8ace-93eb-42fa-ac1f-53aa4f419016",
   "metadata": {},
   "outputs": [],
   "source": [
    "#Preferences\n",
    "pd.set_option('display.max_rows', None)\n",
    "pd.set_option('display.max_columns', None)\n",
    "pd.set_option('display.float_format', lambda x: f'{x:.3f}')"
   ]
  },
  {
   "cell_type": "code",
   "execution_count": 3,
   "id": "e400cb2f-776d-425f-b4f4-fbb2a371c066",
   "metadata": {},
   "outputs": [],
   "source": [
    "#Get traffic data:\n",
    "load_data = False\n",
    "if load_data == True:\n",
    "    mon0 = fixing_col_names(pd.read_csv(\"csv_files/Monday-WorkingHours.pcap_ISCX.csv\"))\n",
    "    tues0 = fixing_col_names(pd.read_csv(\"csv_files/Tuesday-WorkingHours.pcap_ISCX.csv\"))\n",
    "    wed0 = fixing_col_names(pd.read_csv(\"csv_files/Wednesday-WorkingHours.pcap_ISCX.csv\"))\n",
    "    thur0 = fixing_col_names(pd.read_csv(\"csv_files/Thursday-WorkingHours-Morning-WebAttacks.pcap_ISCX.csv\"))\n",
    "    thur1 = fixing_col_names(pd.read_csv(\"csv_files/Thursday-WorkingHours-Afternoon-Infilteration.pcap_ISCX.csv\"))\n",
    "    fri0 = fixing_col_names(pd.read_csv(\"csv_files/Friday-WorkingHours-Morning.pcap_ISCX.csv\"))\n",
    "    fri1 = fixing_col_names(pd.read_csv(\"csv_files/Friday-WorkingHours-Afternoon-DDos.pcap_ISCX.csv\"))\n",
    "    fri2 = fixing_col_names(pd.read_csv(\"csv_files/Friday-WorkingHours-Afternoon-PortScan.pcap_ISCX.csv\"))"
   ]
  },
  {
   "cell_type": "code",
   "execution_count": 4,
   "id": "1749111c-8659-40e5-941b-31ae0f1a0fd4",
   "metadata": {},
   "outputs": [
    {
     "name": "stdout",
     "output_type": "stream",
     "text": [
      "Pcap file size: 8.839 GB\n",
      "Pcap file size: 10.823 GB\n",
      "Pcap file size: 8.303 GB\n",
      "Pcap file size: 11.048 GB\n",
      "Pcap file size: 13.421 GB\n",
      "Available memory: 24.618 GB\n"
     ]
    }
   ],
   "source": [
    "for file in os.listdir(\"pcap_files\"):\n",
    "    print(f\"Pcap file size: {os.path.getsize(f'pcap_files//{file}')/1_000_000_000:.3f} GB\")\n",
    "print(f\"Available memory: {psutil.virtual_memory()[1]/1_000_000_000:.3f} GB\")"
   ]
  },
  {
   "cell_type": "code",
   "execution_count": 5,
   "id": "1e55845b-6a24-445e-81b1-7b5504d4a7ea",
   "metadata": {},
   "outputs": [],
   "source": [
    "#`PcapReader()` iterates though the pcap entries.\n",
    "#`rdpcap()` loads all pcap entries in memory at once. Takes a very long time."
   ]
  },
  {
   "cell_type": "code",
   "execution_count": 6,
   "id": "45caf2e4-623a-46ae-a662-e5db3b220202",
   "metadata": {},
   "outputs": [
    {
     "name": "stdout",
     "output_type": "stream",
     "text": [
      "###[ Ethernet ]### \n",
      "  dst       = b8:ac:6f:36:0a:8b\n",
      "  src       = 00:c1:b1:14:eb:31\n",
      "  type      = IPv4\n",
      "###[ IP ]### \n",
      "     version   = 4\n",
      "     ihl       = 5\n",
      "     tos       = 0x0\n",
      "     len       = 40\n",
      "     id        = 6964\n",
      "     flags     = \n",
      "     frag      = 0\n",
      "     ttl       = 55\n",
      "     proto     = tcp\n",
      "     chksum    = 0x9a72\n",
      "     src       = 8.254.250.126\n",
      "     dst       = 192.168.10.5\n",
      "     \\options   \\\n",
      "###[ TCP ]### \n",
      "        sport     = http\n",
      "        dport     = 49188\n",
      "        seq       = 3755453835\n",
      "        ack       = 2495101083\n",
      "        dataofs   = 5\n",
      "        reserved  = 0\n",
      "        flags     = FA\n",
      "        window    = 329\n",
      "        chksum    = 0xc534\n",
      "        urgptr    = 0\n",
      "        options   = ''\n",
      "###[ Padding ]### \n",
      "           load      = '\\x00\\x00\\x00\\x00\\x00\\x00'\n",
      "\n",
      "None\n",
      "###[ Ethernet ]### \n",
      "  dst       = b8:ac:6f:36:0a:8b\n",
      "  src       = 00:c1:b1:14:eb:31\n",
      "  type      = IPv4\n",
      "###[ IP ]### \n",
      "     version   = 4\n",
      "     ihl       = 5\n",
      "     tos       = 0x0\n",
      "     len       = 40\n",
      "     id        = 6964\n",
      "     flags     = \n",
      "     frag      = 0\n",
      "     ttl       = 55\n",
      "     proto     = tcp\n",
      "     chksum    = 0x9a72\n",
      "     src       = 8.254.250.126\n",
      "     dst       = 192.168.10.5\n",
      "     \\options   \\\n",
      "###[ TCP ]### \n",
      "        sport     = http\n",
      "        dport     = 49188\n",
      "        seq       = 3755453835\n",
      "        ack       = 2495101083\n",
      "        dataofs   = 5\n",
      "        reserved  = 0\n",
      "        flags     = FA\n",
      "        window    = 329\n",
      "        chksum    = 0xc534\n",
      "        urgptr    = 0\n",
      "        options   = ''\n",
      "###[ Padding ]### \n",
      "           load      = '\\x00\\x00\\x00\\x00\\x00\\x00'\n",
      "\n",
      "None\n",
      "###[ Ethernet ]### \n",
      "  dst       = b8:ac:6f:36:0a:8b\n",
      "  src       = 00:c1:b1:14:eb:31\n",
      "  type      = IPv4\n",
      "###[ IP ]### \n",
      "     version   = 4\n",
      "     ihl       = 5\n",
      "     tos       = 0x0\n",
      "     len       = 40\n",
      "     id        = 6964\n",
      "     flags     = \n",
      "     frag      = 0\n",
      "     ttl       = 55\n",
      "     proto     = tcp\n",
      "     chksum    = 0x9a72\n",
      "     src       = 8.254.250.126\n",
      "     dst       = 192.168.10.5\n",
      "     \\options   \\\n",
      "###[ TCP ]### \n",
      "        sport     = http\n",
      "        dport     = 49188\n",
      "        seq       = 3755453835\n",
      "        ack       = 2495101083\n",
      "        dataofs   = 5\n",
      "        reserved  = 0\n",
      "        flags     = FA\n",
      "        window    = 329\n",
      "        chksum    = 0xc534\n",
      "        urgptr    = 0\n",
      "        options   = ''\n",
      "###[ Padding ]### \n",
      "           load      = '\\x00\\x00\\x00\\x00\\x00\\x00'\n",
      "\n",
      "None\n",
      "###[ Ethernet ]### \n",
      "  dst       = b8:ac:6f:36:0a:8b\n",
      "  src       = 00:c1:b1:14:eb:31\n",
      "  type      = IPv4\n",
      "###[ IP ]### \n",
      "     version   = 4\n",
      "     ihl       = 5\n",
      "     tos       = 0x0\n",
      "     len       = 40\n",
      "     id        = 6964\n",
      "     flags     = \n",
      "     frag      = 0\n",
      "     ttl       = 55\n",
      "     proto     = tcp\n",
      "     chksum    = 0x9a72\n",
      "     src       = 8.254.250.126\n",
      "     dst       = 192.168.10.5\n",
      "     \\options   \\\n",
      "###[ TCP ]### \n",
      "        sport     = http\n",
      "        dport     = 49188\n",
      "        seq       = 3755453835\n",
      "        ack       = 2495101083\n",
      "        dataofs   = 5\n",
      "        reserved  = 0\n",
      "        flags     = FA\n",
      "        window    = 329\n",
      "        chksum    = 0xc534\n",
      "        urgptr    = 0\n",
      "        options   = ''\n",
      "###[ Padding ]### \n",
      "           load      = '\\x00\\x00\\x00\\x00\\x00\\x00'\n",
      "\n",
      "None\n",
      "###[ Ethernet ]### \n",
      "  dst       = b8:ac:6f:36:0a:8b\n",
      "  src       = 00:c1:b1:14:eb:31\n",
      "  type      = IPv4\n",
      "###[ IP ]### \n",
      "     version   = 4\n",
      "     ihl       = 5\n",
      "     tos       = 0x0\n",
      "     len       = 40\n",
      "     id        = 6964\n",
      "     flags     = \n",
      "     frag      = 0\n",
      "     ttl       = 55\n",
      "     proto     = tcp\n",
      "     chksum    = 0x9a72\n",
      "     src       = 8.254.250.126\n",
      "     dst       = 192.168.10.5\n",
      "     \\options   \\\n",
      "###[ TCP ]### \n",
      "        sport     = http\n",
      "        dport     = 49188\n",
      "        seq       = 3755453835\n",
      "        ack       = 2495101083\n",
      "        dataofs   = 5\n",
      "        reserved  = 0\n",
      "        flags     = FA\n",
      "        window    = 329\n",
      "        chksum    = 0xc534\n",
      "        urgptr    = 0\n",
      "        options   = ''\n",
      "###[ Padding ]### \n",
      "           load      = '\\x00\\x00\\x00\\x00\\x00\\x00'\n",
      "\n",
      "None\n"
     ]
    }
   ],
   "source": [
    "#Getting pcaps\n",
    "count = 0\n",
    "for packet in PcapReader(\"pcap_files/Monday-WorkingHours.pcap\"):\n",
    "    print(packet.show())\n",
    "    count += 1\n",
    "    if count >= 5:\n",
    "        break"
   ]
  },
  {
   "cell_type": "code",
   "execution_count": 7,
   "id": "c6419700-8696-464c-b7c8-5db80cc657cd",
   "metadata": {},
   "outputs": [],
   "source": [
    "#Read pcap files:\n",
    "#mon_packets = rdpcap(\"pcap_files/Monday-WorkingHours.pcap\")"
   ]
  },
  {
   "cell_type": "code",
   "execution_count": 8,
   "id": "80fbf307-f7f1-4a26-9293-6ba4ca7a5885",
   "metadata": {},
   "outputs": [],
   "source": [
    "#View traffic\n",
    "#mon0.head()\n",
    "#tues0.head()\n",
    "#wed0.head()\n",
    "#thur0.head()\n",
    "#thur1.head()\n",
    "#fri0.head()\n",
    "#fri1.head()\n",
    "#fri2.head()"
   ]
  },
  {
   "cell_type": "code",
   "execution_count": 9,
   "id": "37deadd3-b3ab-4fea-b64c-e60fdef36221",
   "metadata": {},
   "outputs": [],
   "source": [
    "#tues0[tues0[\"Label\"] == \"FTP-Patator\"].describe().T"
   ]
  },
  {
   "cell_type": "code",
   "execution_count": 10,
   "id": "04560394-ddad-4e09-98b0-96ff955d4d41",
   "metadata": {},
   "outputs": [],
   "source": [
    "#mon0[\"Label\"].value_counts()"
   ]
  },
  {
   "cell_type": "code",
   "execution_count": 11,
   "id": "3012497c-a9c4-439f-b280-2dc2ddd58db6",
   "metadata": {},
   "outputs": [],
   "source": [
    "#tues0[\"Label\"].value_counts()"
   ]
  },
  {
   "cell_type": "code",
   "execution_count": 12,
   "id": "859faf27-165f-4168-8c94-e5d21c3fccb1",
   "metadata": {},
   "outputs": [],
   "source": [
    "#wed0[\"Label\"].value_counts()"
   ]
  },
  {
   "cell_type": "code",
   "execution_count": 13,
   "id": "928c032d-38e9-4e2b-9fd2-500e70041ae5",
   "metadata": {},
   "outputs": [],
   "source": [
    "#thur0[\"Label\"].value_counts()"
   ]
  },
  {
   "cell_type": "code",
   "execution_count": 14,
   "id": "b865b100-8ccd-43a2-90f8-a2826a296e70",
   "metadata": {},
   "outputs": [],
   "source": [
    "#thur1[\"Label\"].value_counts()"
   ]
  },
  {
   "cell_type": "code",
   "execution_count": 15,
   "id": "aabc4f6f-3b22-4b4a-bdf1-4b2548fb335a",
   "metadata": {},
   "outputs": [],
   "source": [
    "#fri0[\"Label\"].value_counts()"
   ]
  },
  {
   "cell_type": "code",
   "execution_count": 16,
   "id": "59884b90-67c8-4cd7-9196-8262a54dbf07",
   "metadata": {},
   "outputs": [],
   "source": [
    "#fri1[\"Label\"].value_counts()"
   ]
  },
  {
   "cell_type": "code",
   "execution_count": 17,
   "id": "076f2e10-925f-4550-b8b5-50791efbe936",
   "metadata": {},
   "outputs": [],
   "source": [
    "#fri2[\"Label\"].value_counts()"
   ]
  },
  {
   "cell_type": "code",
   "execution_count": null,
   "id": "66601bb3-4613-44ba-a0d2-3ee76728f1a7",
   "metadata": {},
   "outputs": [],
   "source": []
  }
 ],
 "metadata": {
  "kernelspec": {
   "display_name": "Python 3 (ipykernel)",
   "language": "python",
   "name": "python3"
  },
  "language_info": {
   "codemirror_mode": {
    "name": "ipython",
    "version": 3
   },
   "file_extension": ".py",
   "mimetype": "text/x-python",
   "name": "python",
   "nbconvert_exporter": "python",
   "pygments_lexer": "ipython3",
   "version": "3.10.9"
  }
 },
 "nbformat": 4,
 "nbformat_minor": 5
}
