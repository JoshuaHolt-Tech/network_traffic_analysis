{
 "cells": [
  {
   "cell_type": "markdown",
   "id": "ba899145-0c6b-4b16-82a0-a70a634dc451",
   "metadata": {},
   "source": [
    "# Objective: \n",
    "\n",
    "The aim is to analyze network traffic to detect any anomalies or suspicious activities."
   ]
  },
  {
   "cell_type": "markdown",
   "id": "56ef0ba4-4353-4f5a-8d50-983a81866089",
   "metadata": {},
   "source": [
    "## Data: \n",
    "\n",
    "CICIDS 2017 dataset, which includes a wide range of attacks and normal traffic. It's available here:\n",
    "\n",
    "https://www.unb.ca/cic/datasets/ids-2017.html"
   ]
  },
  {
   "cell_type": "markdown",
   "id": "ab54c111-954f-4502-9b3c-7b392586ab17",
   "metadata": {},
   "source": [
    "## Procedure: \n",
    "\n",
    "Acquire from https://www.unb.ca/cic/datasets/ids-2017.html.\n",
    "\n",
    "Preprocess\n",
    "\n",
    "Exploratory data analysis\n",
    "\n",
    "Classification machine learning algorithms:\n",
    "- Logistic Regression\n",
    "- Random Forest\n",
    "- Gradient Boosting\n",
    "- XGBoost\n"
   ]
  },
  {
   "cell_type": "markdown",
   "id": "a55a043a-1258-47bf-a52e-638dffbda433",
   "metadata": {},
   "source": [
    "## Resources:"
   ]
  },
  {
   "cell_type": "markdown",
   "id": "ed6b94da-d35d-4346-b5ad-a17514311118",
   "metadata": {},
   "source": [
    "### Websites:\n",
    "\n",
    "https://www.studytonight.com/network-programming-in-python/analyzing-network-traffic\n",
    "https://plainenglish.io/blog/network-traffic-analysis-with-python-f95ed4e76c28\n",
    "\n",
    "#### pcap files into DataFrames:\n",
    "\n",
    "https://www.automox.com/blog/visualizing-network-data-using-python-part-1\n",
    "\n",
    "https://www.automox.com/blog/visualizing-network-data-using-python-part-2\n",
    "\n",
    "https://www.automox.com/blog/visualizing-network-data-using-python-part-3\n",
    "\n",
    "#### Network Traffic Visualization (Geolocation):\n",
    "https://medium.com/vinsloev-academy/python-cybersecurity-network-tracking-using-wireshark-and-google-maps-2adf3e497a93\n",
    "\n",
    "#### Examples for malware traffic analysis:\n",
    "https://www.malware-traffic-analysis.net/2021/index.html\n",
    "\n",
    "#### Specific indicator of compromise:\n",
    "https://cylab.be/blog/245/network-traffic-analysis-with-python-scapy-and-some-machine-learning\n",
    "\n",
    "### YouTube:\n",
    "https://www.youtube.com/watch?v=oA7QhYOhW_0\n",
    "https://www.youtube.com/watch?v=xuNuy8n8u-Y\n",
    "\n",
    "### LinkedIn Learning:\n",
    "https://www.linkedin.com/learning/applied-ai-for-it-operations-aiops/network-traffic-analysis\n",
    "\n",
    "### Books:\n",
    "https://www.techtarget.com/searchnetworking/feature/Learn-how-to-master-network-traffic-analysis-with-Python"
   ]
  },
  {
   "cell_type": "markdown",
   "id": "c877e0d5-5d3e-441b-b2eb-9234a791c3ea",
   "metadata": {},
   "source": [
    "Research paper:\n",
    "https://www.scitepress.org/papers/2018/66398/66398.pdf"
   ]
  },
  {
   "cell_type": "markdown",
   "id": "7e299ef6-b90d-433a-bfb5-e2f2a7f8968a",
   "metadata": {},
   "source": [
    "### Current Tasks\n",
    "- Practise reading pcap files.\n",
    "- Figure out a way to capture pcap files from the notebook.\n",
    "- Identify indicators of compromise.\n",
    "- Parallel processing?"
   ]
  },
  {
   "cell_type": "markdown",
   "id": "5322a109-04be-44ad-b563-1c3ae9e91b2d",
   "metadata": {},
   "source": [
    "## Code:"
   ]
  },
  {
   "cell_type": "code",
   "execution_count": 1,
   "id": "89056a60-4bcd-4c53-829d-c0e2e6263845",
   "metadata": {},
   "outputs": [],
   "source": [
    "#Imports\n",
    "from scapy.all import *\n",
    "from scapy.utils import PcapReader\n",
    "import os, psutil, statistics, multiprocessing\n",
    "import pandas as pd\n",
    "import numpy as np\n",
    "from prepare import *\n",
    "from analize import *\n"
   ]
  },
  {
   "cell_type": "code",
   "execution_count": 2,
   "id": "387b8ace-93eb-42fa-ac1f-53aa4f419016",
   "metadata": {},
   "outputs": [],
   "source": [
    "#Preferences\n",
    "pd.set_option('display.max_rows', None)\n",
    "pd.set_option('display.max_columns', None)\n",
    "pd.set_option('display.float_format', lambda x: f'{x:.3f}')"
   ]
  },
  {
   "cell_type": "code",
   "execution_count": 3,
   "id": "e400cb2f-776d-425f-b4f4-fbb2a371c066",
   "metadata": {},
   "outputs": [],
   "source": [
    "#Get traffic data in CSV format:\n",
    "load_data = False\n",
    "if load_data == True:\n",
    "    mon0 = fixing_col_names(pd.read_csv(\"csv_files/Monday-WorkingHours.pcap_ISCX.csv\"))\n",
    "    tues0 = fixing_col_names(pd.read_csv(\"csv_files/Tuesday-WorkingHours.pcap_ISCX.csv\"))\n",
    "    wed0 = fixing_col_names(pd.read_csv(\"csv_files/Wednesday-WorkingHours.pcap_ISCX.csv\"))\n",
    "    thur0 = fixing_col_names(pd.read_csv(\"csv_files/Thursday-WorkingHours-Morning-WebAttacks.pcap_ISCX.csv\"))\n",
    "    thur1 = fixing_col_names(pd.read_csv(\"csv_files/Thursday-WorkingHours-Afternoon-Infilteration.pcap_ISCX.csv\"))\n",
    "    fri0 = fixing_col_names(pd.read_csv(\"csv_files/Friday-WorkingHours-Morning.pcap_ISCX.csv\"))\n",
    "    fri1 = fixing_col_names(pd.read_csv(\"csv_files/Friday-WorkingHours-Afternoon-DDos.pcap_ISCX.csv\"))\n",
    "    fri2 = fixing_col_names(pd.read_csv(\"csv_files/Friday-WorkingHours-Afternoon-PortScan.pcap_ISCX.csv\"))"
   ]
  },
  {
   "cell_type": "code",
   "execution_count": 4,
   "id": "1749111c-8659-40e5-941b-31ae0f1a0fd4",
   "metadata": {},
   "outputs": [
    {
     "name": "stdout",
     "output_type": "stream",
     "text": [
      "Pcap file size: 8.839 GB\n",
      "Pcap file size: 10.823 GB\n",
      "Pcap file size: 0.047 GB\n",
      "Pcap file size: 8.303 GB\n",
      "Pcap file size: 11.048 GB\n",
      "Pcap file size: 13.421 GB\n",
      "Available memory: 26.744 GB\n"
     ]
    }
   ],
   "source": [
    "#Measuring size of pcap files:\n",
    "for file in os.listdir(\"pcap_files\"):\n",
    "    print(f\"Pcap file size: {os.path.getsize(f'pcap_files//{file}')/1_000_000_000:.3f} GB\")\n",
    "\n",
    "#System memory:\n",
    "print(f\"Available memory: {psutil.virtual_memory()[1]/1_000_000_000:.3f} GB\")"
   ]
  },
  {
   "cell_type": "code",
   "execution_count": 5,
   "id": "1e55845b-6a24-445e-81b1-7b5504d4a7ea",
   "metadata": {},
   "outputs": [],
   "source": [
    "#`PcapReader()` iterates though the pcap entries. Creates generator object.\n",
    "#`rdpcap()` loads all pcap entries in memory at once. Takes a very long time and can fill up memory."
   ]
  },
  {
   "cell_type": "code",
   "execution_count": 6,
   "id": "38899329-3395-48f7-9373-3cc309a87700",
   "metadata": {},
   "outputs": [],
   "source": [
    "#Generator object for pcap file:\n",
    "pcap_file = \"pcap_files/test0_wifi_capture.pcap\"\n",
    "captured_packets = PcapReader(\"pcap_files/test0_wifi_capture.pcap\")"
   ]
  },
  {
   "cell_type": "code",
   "execution_count": 7,
   "id": "53ef49d9-5d5e-4eca-8d74-750d5cd45d1f",
   "metadata": {},
   "outputs": [],
   "source": [
    "#file_size and chunk_size are not being measured with the same units...\n",
    "file_size = os.path.getsize(pcap_file)\n",
    "chunk_size = max(1, int(20_000_000))"
   ]
  },
  {
   "cell_type": "code",
   "execution_count": 8,
   "id": "78fcc4d4-575b-418d-ad9f-168788f4e1e1",
   "metadata": {},
   "outputs": [
    {
     "name": "stdout",
     "output_type": "stream",
     "text": [
      "DNS counts: 1\n",
      "IP counts: 1\n",
      "SEQ counts: 12792\n"
     ]
    }
   ],
   "source": [
    "dns_counts, ip_counts, seq_counts = get_ioc_counts(captured_packets)"
   ]
  },
  {
   "cell_type": "code",
   "execution_count": 9,
   "id": "9a2e1095-b1e2-4506-a3b3-e2dd7cacafb4",
   "metadata": {},
   "outputs": [
    {
     "data": {
      "text/plain": [
       "47256430"
      ]
     },
     "execution_count": 9,
     "metadata": {},
     "output_type": "execute_result"
    }
   ],
   "source": [
    "file_size"
   ]
  },
  {
   "cell_type": "code",
   "execution_count": 10,
   "id": "b4684238-cac3-45b3-9650-9b2d1a6afd3d",
   "metadata": {},
   "outputs": [
    {
     "name": "stdout",
     "output_type": "stream",
     "text": [
      "20000000\n"
     ]
    }
   ],
   "source": [
    "print(chunk_size)"
   ]
  },
  {
   "cell_type": "code",
   "execution_count": 11,
   "id": "9cfb9918-89c0-4b9d-8d44-163fd7997e7a",
   "metadata": {},
   "outputs": [],
   "source": [
    "pool = multiprocessing.Pool()"
   ]
  },
  {
   "cell_type": "code",
   "execution_count": 12,
   "id": "06c2a48f-1837-45ca-a5f6-c4ee7057a298",
   "metadata": {},
   "outputs": [
    {
     "name": "stdout",
     "output_type": "stream",
     "text": [
      "67036\n",
      "1\n"
     ]
    }
   ],
   "source": [
    "#Breaking data into chunks and applying function.\n",
    "chunks = []\n",
    "chunk = []\n",
    "for packet in PcapReader(pcap_file):\n",
    "    chunk.append(packet)\n",
    "    if len(chunk) >= chunk_size:\n",
    "        print(len(chunk))\n",
    "        chunks.append(chunk)\n",
    "        chunk = []\n",
    "if chunk:\n",
    "    chunks.append(chunk)\n",
    "print(len(chunk))\n",
    "print(len(chunks))\n",
    "results = pool.map(get_ioc_counts, chunks)"
   ]
  },
  {
   "cell_type": "code",
   "execution_count": 13,
   "id": "3330564d-de0d-429e-98cc-b2313c9ffe59",
   "metadata": {},
   "outputs": [],
   "source": [
    "pool.close()\n",
    "pool.join()"
   ]
  },
  {
   "cell_type": "code",
   "execution_count": 15,
   "id": "3b5b675d-420b-48d8-9d52-8ade57af71ea",
   "metadata": {},
   "outputs": [],
   "source": [
    "\"\"\"\n",
    "Returning a list of three items (dns_counts, ip_counts, seq_counts). \n",
    "Unsure about if the sequence counts are combined or duplicates. \n",
    "It's a dictionary so it should have unique keys but it could also be dropping numbers.\n",
    "Read about how pools combine chunks after they are finished processing.\n",
    "\"\"\"\n",
    "dns_counts0 = results[0][0]\n",
    "ip_counts0 = results[0][1]\n",
    "seq_counts0 = results[0][2]"
   ]
  },
  {
   "cell_type": "code",
   "execution_count": 16,
   "id": "25047163-98c4-4789-831e-4688f327f676",
   "metadata": {},
   "outputs": [
    {
     "data": {
      "text/plain": [
       "True"
      ]
     },
     "execution_count": 16,
     "metadata": {},
     "output_type": "execute_result"
    }
   ],
   "source": [
    "seq_counts0 == seq_counts"
   ]
  },
  {
   "cell_type": "code",
   "execution_count": 17,
   "id": "633c3ba7-ecfd-48d0-8edb-ddfd446836b6",
   "metadata": {},
   "outputs": [
    {
     "name": "stdout",
     "output_type": "stream",
     "text": [
      "DNS counts: 1\n",
      "IP counts: 1\n",
      "SEQ counts: 12792\n",
      "DNS counts0: 1\n",
      "IP counts0: 1\n",
      "SEQ counts0: 12792\n"
     ]
    }
   ],
   "source": [
    "print(f\"DNS counts: {len(dns_counts)}\")\n",
    "print(f\"IP counts: {len(ip_counts)}\")\n",
    "print(f\"SEQ counts: {len(seq_counts)}\")\n",
    "print(f\"DNS counts0: {len(dns_counts0)}\")\n",
    "print(f\"IP counts0: {len(ip_counts0)}\")\n",
    "print(f\"SEQ counts0: {len(seq_counts0)}\")"
   ]
  },
  {
   "cell_type": "code",
   "execution_count": null,
   "id": "860ceefc-d1a1-4c22-a3d5-4397c12078b9",
   "metadata": {},
   "outputs": [],
   "source": [
    "dns_threshold = set_threshold(dns_counts)"
   ]
  },
  {
   "cell_type": "code",
   "execution_count": null,
   "id": "62a6531a-fccc-41bb-9d1d-348703086494",
   "metadata": {},
   "outputs": [],
   "source": [
    "ip_threshold = set_threshold(ip_counts)"
   ]
  },
  {
   "cell_type": "code",
   "execution_count": null,
   "id": "c9772d6e-00d2-4911-9652-edeb75065089",
   "metadata": {},
   "outputs": [],
   "source": [
    "seq_threshold = set_threshold(seq_counts, sigma_value=4)"
   ]
  },
  {
   "cell_type": "code",
   "execution_count": null,
   "id": "cfeccd6d-ef5b-472d-877f-d936d78e46db",
   "metadata": {},
   "outputs": [],
   "source": [
    "sus_dns = eval_packets(dns_threshold, dns_counts)"
   ]
  },
  {
   "cell_type": "code",
   "execution_count": null,
   "id": "aed4fc67-2fa8-4df2-ad53-54ef7c3884d2",
   "metadata": {},
   "outputs": [],
   "source": [
    "sus_ip = eval_packets(ip_threshold, ip_counts)"
   ]
  },
  {
   "cell_type": "code",
   "execution_count": null,
   "id": "53fc7e45-a6ed-4e34-9c37-48795e3aff11",
   "metadata": {},
   "outputs": [],
   "source": [
    "sus_seq = eval_packets(seq_threshold, seq_counts)"
   ]
  },
  {
   "cell_type": "code",
   "execution_count": null,
   "id": "a53a098c-700e-4718-a3c1-477b795adadd",
   "metadata": {},
   "outputs": [],
   "source": []
  },
  {
   "cell_type": "code",
   "execution_count": null,
   "id": "0877ec9b-8c5b-46a5-b458-8c236298dc64",
   "metadata": {},
   "outputs": [],
   "source": []
  },
  {
   "cell_type": "code",
   "execution_count": null,
   "id": "e5e183d3-017c-48dc-8678-bdc8ea5c0ce2",
   "metadata": {},
   "outputs": [],
   "source": []
  },
  {
   "cell_type": "code",
   "execution_count": null,
   "id": "7b30d648-c391-4175-b3a5-dd63c81733a8",
   "metadata": {},
   "outputs": [],
   "source": [
    "#Looking for indicators of compromise in pcap:\n",
    "for packet in captured_packets:\n",
    "    if packet.haslayer(IP):\n",
    "        #DNS replies that contain no answer (NXDOMAIN errors):\n",
    "        if packet.haslayer(DNS) and (packet[DNS].qr == 1) and (packet[DNS].ancount == 0):\n",
    "            dns = packet[IP].dst\n",
    "            dns_counts[IP] = dns_counts.get(dns, 0) + 1\n",
    "\n",
    "    #IP addresses that send a lot of packets:\n",
    "        ip = packet[IP].src\n",
    "        ip_counts[IP] = ip_counts.get(ip, 0) + 1\n",
    "\n",
    "    #Repeated TCP sequence numbers:\n",
    "    if packet.haslayer(TCP):\n",
    "        seq = packet[TCP].seq\n",
    "        seq_counts[seq] = seq_counts.get(seq, 0) + 1\n",
    "    #Progress updates:\n",
    "    i += 1\n",
    "    if i % 1_000_000 == 0:\n",
    "        print(f\"{i} packets processed\")"
   ]
  },
  {
   "cell_type": "code",
   "execution_count": null,
   "id": "dd9711b5-0dbc-4d31-8de5-3974f155ed28",
   "metadata": {},
   "outputs": [],
   "source": [
    "#Establishing a threshold at 99.7% or three standard deviations from the mean.\n",
    "if len(dns_counts) < 2:\n",
    "    dns_threshold = 25\n",
    "else:\n",
    "    dns_mean = statistics.mean(dns_counts.values())\n",
    "    dns_stddev = statistics.stdev(dns_counts.values())\n",
    "    dns_threshold = dns_mean + 3 * dns_stdev\n",
    "\n",
    "print(f\"The DNS threshold is: {dns_threshold}\")"
   ]
  },
  {
   "cell_type": "code",
   "execution_count": null,
   "id": "739d449f-e63a-41cf-916e-9b82452008dc",
   "metadata": {},
   "outputs": [],
   "source": [
    "#Establish the threshold for IP addresses that send lots of packets:\n",
    "if len(ip_counts) < 2:\n",
    "    ip_threshold = 25\n",
    "else:\n",
    "    ip_mean = statistics.mean(ip_counts.values())\n",
    "    ip_stddev = statistics.stdev(ip_counts.values())\n",
    "    ip_threshold = ip_mean + 3 * ip_stdev\n",
    "\n",
    "print(f\"The IP threshold is: {ip_threshold}\")"
   ]
  },
  {
   "cell_type": "code",
   "execution_count": null,
   "id": "3cf7a9eb-39f2-444f-99f0-be9f6068b42e",
   "metadata": {},
   "outputs": [],
   "source": [
    "#Establish threshold for repeated TCP sequence numbers:\n",
    "if len(seq_counts) < 2:\n",
    "    seq_threshold = 25\n",
    "else:\n",
    "    seq_mean = statistics.mean(seq_counts.values())\n",
    "    seq_stddev = statistics.stdev(seq_counts.values())\n",
    "    seq_threshold = seq_mean + 4 * seq_stddev\n",
    "\n",
    "print(f\"The sequence threshold is: {seq_threshold:.3f}\")"
   ]
  },
  {
   "cell_type": "code",
   "execution_count": null,
   "id": "ec84ab58-6c57-40b3-87b1-4b3152c0a2a3",
   "metadata": {},
   "outputs": [],
   "source": [
    "#Checking packets against thresholds:\n",
    "dns_suspicious = []\n",
    "ip_suspicious = []\n",
    "seq_suspicious = []\n",
    "for ip_addy, occurrences in dns_counts.items():\n",
    "    if occurrences < dns_threshold:\n",
    "        continue\n",
    "    dns_suspicious.append(ip_addy)\n",
    "\n",
    "for ip_addy, occurrences in ip_counts.items():\n",
    "    if occurrences < ip_threshold:\n",
    "        continue\n",
    "    ip_suspicious.append(ip_addy)\n",
    "\n",
    "for seq, occurrences in seq_counts.items():\n",
    "    if occurrences < seq_threshold:\n",
    "        continue\n",
    "    seq_suspicious.append(seq)"
   ]
  },
  {
   "cell_type": "code",
   "execution_count": null,
   "id": "fdc74a2d-7227-40ed-810e-f349e0e2f66b",
   "metadata": {},
   "outputs": [],
   "source": [
    "print(len(dns_suspicious))\n",
    "print(\"------------------------------\")\n",
    "print(len(ip_suspicious))\n",
    "print(\"------------------------------\")\n",
    "print(len(seq_suspicious))"
   ]
  },
  {
   "cell_type": "code",
   "execution_count": null,
   "id": "0bb6ab0a-0c6f-410a-8b64-1cb07a33e06b",
   "metadata": {},
   "outputs": [],
   "source": [
    "#Generators must be reinitialize to iterate through again:\n",
    "captured_packets = PcapReader(\"pcap_files/test0_wifi_capture.pcap\")"
   ]
  },
  {
   "cell_type": "code",
   "execution_count": null,
   "id": "0c99ad20-7431-4817-8bef-cd10aeb67164",
   "metadata": {},
   "outputs": [],
   "source": [
    "sus_packets = []"
   ]
  },
  {
   "cell_type": "code",
   "execution_count": null,
   "id": "24c575ff-f390-4e2e-b2f1-70bd514f6cef",
   "metadata": {},
   "outputs": [],
   "source": [
    "j = 0\n",
    "dns_suspicious = set(dns_suspicious)\n",
    "ip_suspicious = set(ip_suspicious)\n",
    "seq_suspicious = set(seq_suspicious)\n",
    "\n",
    "for packet in captured_packets:\n",
    "    #Add section to collect suspicious DNS packets\n",
    "    #Add section to collect suspicious IP packets\n",
    "\n",
    "    #Collect packets with suspicious TCP sequence numbers:\n",
    "    if packet.haslayer(TCP) and (int(packet[TCP].seq) in seq_suspicious):\n",
    "        sus_packets.append(packet)\n",
    "\n",
    "    #Progress updates:\n",
    "    j += 1\n",
    "    if j % 1_000_000 == 0:\n",
    "        print(f\"{j} packets processed\")"
   ]
  },
  {
   "cell_type": "code",
   "execution_count": null,
   "id": "b4111a33-5ca4-489f-9d5c-6d4a91c5ec77",
   "metadata": {},
   "outputs": [],
   "source": [
    "sus_df = packets_to_dataframe(sus_packets)"
   ]
  },
  {
   "cell_type": "code",
   "execution_count": null,
   "id": "3cecf39c-f594-42b0-9b7a-c5a984353255",
   "metadata": {},
   "outputs": [],
   "source": [
    "sus_df.iloc[0]"
   ]
  },
  {
   "cell_type": "code",
   "execution_count": null,
   "id": "4e3bd21e-d117-475d-991e-43e08024f585",
   "metadata": {},
   "outputs": [],
   "source": [
    "sus_df.Src_MAC.value_counts()"
   ]
  },
  {
   "cell_type": "code",
   "execution_count": null,
   "id": "eac10b92-0585-49db-ba5f-8e506deb0886",
   "metadata": {},
   "outputs": [],
   "source": [
    "sus_df.Dst_MAC.value_counts()"
   ]
  },
  {
   "cell_type": "code",
   "execution_count": null,
   "id": "39d949b3-5da6-43ec-bd11-cef54620f889",
   "metadata": {},
   "outputs": [],
   "source": [
    "sus_df.Src_IP.value_counts()"
   ]
  },
  {
   "cell_type": "code",
   "execution_count": null,
   "id": "71c229c0-f92b-48cd-beaa-f47690ce0a84",
   "metadata": {},
   "outputs": [],
   "source": [
    "sus_df.Dst_IP.value_counts()"
   ]
  },
  {
   "cell_type": "code",
   "execution_count": null,
   "id": "80fbf307-f7f1-4a26-9293-6ba4ca7a5885",
   "metadata": {},
   "outputs": [],
   "source": [
    "#View traffic from csv files\n",
    "#mon0.head()\n",
    "#tues0.head()\n",
    "#wed0.head()\n",
    "#thur0.head()\n",
    "#thur1.head()\n",
    "#fri0.head()\n",
    "#fri1.head()\n",
    "#fri2.head()"
   ]
  },
  {
   "cell_type": "code",
   "execution_count": null,
   "id": "37deadd3-b3ab-4fea-b64c-e60fdef36221",
   "metadata": {},
   "outputs": [],
   "source": [
    "#tues0[tues0[\"Label\"] == \"FTP-Patator\"].describe().T"
   ]
  },
  {
   "cell_type": "code",
   "execution_count": null,
   "id": "04560394-ddad-4e09-98b0-96ff955d4d41",
   "metadata": {},
   "outputs": [],
   "source": [
    "#mon0[\"Label\"].value_counts()"
   ]
  },
  {
   "cell_type": "code",
   "execution_count": null,
   "id": "3012497c-a9c4-439f-b280-2dc2ddd58db6",
   "metadata": {},
   "outputs": [],
   "source": [
    "#tues0[\"Label\"].value_counts()"
   ]
  },
  {
   "cell_type": "code",
   "execution_count": null,
   "id": "859faf27-165f-4168-8c94-e5d21c3fccb1",
   "metadata": {},
   "outputs": [],
   "source": [
    "#wed0[\"Label\"].value_counts()"
   ]
  },
  {
   "cell_type": "code",
   "execution_count": null,
   "id": "928c032d-38e9-4e2b-9fd2-500e70041ae5",
   "metadata": {},
   "outputs": [],
   "source": [
    "#thur0[\"Label\"].value_counts()"
   ]
  },
  {
   "cell_type": "code",
   "execution_count": null,
   "id": "b865b100-8ccd-43a2-90f8-a2826a296e70",
   "metadata": {},
   "outputs": [],
   "source": [
    "#thur1[\"Label\"].value_counts()"
   ]
  },
  {
   "cell_type": "code",
   "execution_count": null,
   "id": "aabc4f6f-3b22-4b4a-bdf1-4b2548fb335a",
   "metadata": {},
   "outputs": [],
   "source": [
    "#fri0[\"Label\"].value_counts()"
   ]
  },
  {
   "cell_type": "code",
   "execution_count": null,
   "id": "59884b90-67c8-4cd7-9196-8262a54dbf07",
   "metadata": {},
   "outputs": [],
   "source": [
    "#fri1[\"Label\"].value_counts()"
   ]
  },
  {
   "cell_type": "code",
   "execution_count": null,
   "id": "076f2e10-925f-4550-b8b5-50791efbe936",
   "metadata": {},
   "outputs": [],
   "source": [
    "#fri2[\"Label\"].value_counts()"
   ]
  },
  {
   "cell_type": "code",
   "execution_count": null,
   "id": "66601bb3-4613-44ba-a0d2-3ee76728f1a7",
   "metadata": {},
   "outputs": [],
   "source": []
  }
 ],
 "metadata": {
  "kernelspec": {
   "display_name": "Python 3 (ipykernel)",
   "language": "python",
   "name": "python3"
  },
  "language_info": {
   "codemirror_mode": {
    "name": "ipython",
    "version": 3
   },
   "file_extension": ".py",
   "mimetype": "text/x-python",
   "name": "python",
   "nbconvert_exporter": "python",
   "pygments_lexer": "ipython3",
   "version": "3.10.9"
  }
 },
 "nbformat": 4,
 "nbformat_minor": 5
}
