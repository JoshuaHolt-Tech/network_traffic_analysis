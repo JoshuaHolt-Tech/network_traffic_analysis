{
 "cells": [
  {
   "cell_type": "markdown",
   "id": "ba899145-0c6b-4b16-82a0-a70a634dc451",
   "metadata": {},
   "source": [
    "# Objective: \n",
    "\n",
    "The aim is to analyze network traffic to detect any anomalies or suspicious activities. This is a crucial part of penetration testing as it can help identify potential security threats."
   ]
  },
  {
   "cell_type": "markdown",
   "id": "56ef0ba4-4353-4f5a-8d50-983a81866089",
   "metadata": {},
   "source": [
    "## Data: \n",
    "\n",
    "You can use the CICIDS 2017 dataset, which includes a wide range of attacks and normal traffic. It's available here:\n",
    "\n",
    "https://www.unb.ca/cic/datasets/ids-2017.html"
   ]
  },
  {
   "cell_type": "markdown",
   "id": "ab54c111-954f-4502-9b3c-7b392586ab17",
   "metadata": {},
   "source": [
    "## Procedure: \n",
    "\n",
    "After preprocessing the data and performing exploratory data analysis, you can use machine learning algorithms (like Logistic Regression, Random Forest, or Gradient Boosting) to classify network traffic.\n"
   ]
  },
  {
   "cell_type": "code",
   "execution_count": 1,
   "id": "89056a60-4bcd-4c53-829d-c0e2e6263845",
   "metadata": {},
   "outputs": [],
   "source": [
    "from scapy.all import *\n",
    "import plotly\n",
    "from datetime import datetime\n",
    "import pandas as pd"
   ]
  },
  {
   "cell_type": "markdown",
   "id": "0e4b215b-5cd5-4bef-92aa-c310ad43f690",
   "metadata": {},
   "source": [
    "Reference this site for putting pcap files into dfs:\n",
    "\n",
    "https://www.automox.com/blog/visualizing-network-data-using-python-part-3"
   ]
  },
  {
   "cell_type": "code",
   "execution_count": null,
   "id": "636f7100-0a6d-4d17-a462-61f1eab29536",
   "metadata": {},
   "outputs": [],
   "source": []
  }
 ],
 "metadata": {
  "kernelspec": {
   "display_name": "Python 3 (ipykernel)",
   "language": "python",
   "name": "python3"
  },
  "language_info": {
   "codemirror_mode": {
    "name": "ipython",
    "version": 3
   },
   "file_extension": ".py",
   "mimetype": "text/x-python",
   "name": "python",
   "nbconvert_exporter": "python",
   "pygments_lexer": "ipython3",
   "version": "3.10.9"
  }
 },
 "nbformat": 4,
 "nbformat_minor": 5
}
