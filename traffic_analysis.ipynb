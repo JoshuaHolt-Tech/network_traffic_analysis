{
 "cells": [
  {
   "cell_type": "markdown",
   "id": "ba899145-0c6b-4b16-82a0-a70a634dc451",
   "metadata": {},
   "source": [
    "# Objective: \n",
    "\n",
    "The aim is to analyze network traffic to detect any anomalies or suspicious activities."
   ]
  },
  {
   "cell_type": "markdown",
   "id": "56ef0ba4-4353-4f5a-8d50-983a81866089",
   "metadata": {},
   "source": [
    "## Data: \n",
    "\n",
    "CICIDS 2017 dataset, which includes a wide range of attacks and normal traffic. It's available here:\n",
    "\n",
    "https://www.unb.ca/cic/datasets/ids-2017.html"
   ]
  },
  {
   "cell_type": "markdown",
   "id": "ab54c111-954f-4502-9b3c-7b392586ab17",
   "metadata": {},
   "source": [
    "## Procedure: \n",
    "\n",
    "Acquire from https://www.unb.ca/cic/datasets/ids-2017.html.\n",
    "\n",
    "Preprocess\n",
    "\n",
    "Exploratory data analysis\n",
    "\n",
    "Classification machine learning algorithms:\n",
    "- Logistic Regression\n",
    "- Random Forest\n",
    "- Gradient Boosting\n",
    "- XGBoost\n"
   ]
  },
  {
   "cell_type": "markdown",
   "id": "a55a043a-1258-47bf-a52e-638dffbda433",
   "metadata": {},
   "source": [
    "## Resources:"
   ]
  },
  {
   "cell_type": "markdown",
   "id": "ed6b94da-d35d-4346-b5ad-a17514311118",
   "metadata": {},
   "source": [
    "### Websites:\n",
    "\n",
    "https://www.studytonight.com/network-programming-in-python/analyzing-network-traffic\n",
    "https://plainenglish.io/blog/network-traffic-analysis-with-python-f95ed4e76c28\n",
    "\n",
    "#### pcap files into DataFrames:\n",
    "\n",
    "https://www.automox.com/blog/visualizing-network-data-using-python-part-1\n",
    "\n",
    "https://www.automox.com/blog/visualizing-network-data-using-python-part-2\n",
    "\n",
    "https://www.automox.com/blog/visualizing-network-data-using-python-part-3\n",
    "\n",
    "#### Network Traffic Visualization (Geolocation):\n",
    "https://medium.com/vinsloev-academy/python-cybersecurity-network-tracking-using-wireshark-and-google-maps-2adf3e497a93\n",
    "\n",
    "#### Examples for malware traffic analysis:\n",
    "https://www.malware-traffic-analysis.net/2021/index.html\n",
    "\n",
    "#### Specific indicator of compromise:\n",
    "https://cylab.be/blog/245/network-traffic-analysis-with-python-scapy-and-some-machine-learning\n",
    "\n",
    "### YouTube:\n",
    "https://www.youtube.com/watch?v=oA7QhYOhW_0\n",
    "https://www.youtube.com/watch?v=xuNuy8n8u-Y\n",
    "\n",
    "### LinkedIn Learning:\n",
    "https://www.linkedin.com/learning/applied-ai-for-it-operations-aiops/network-traffic-analysis\n",
    "\n",
    "### Books:\n",
    "https://www.techtarget.com/searchnetworking/feature/Learn-how-to-master-network-traffic-analysis-with-Python"
   ]
  },
  {
   "cell_type": "markdown",
   "id": "c877e0d5-5d3e-441b-b2eb-9234a791c3ea",
   "metadata": {},
   "source": [
    "Research paper:\n",
    "https://www.scitepress.org/papers/2018/66398/66398.pdf"
   ]
  },
  {
   "cell_type": "markdown",
   "id": "7e299ef6-b90d-433a-bfb5-e2f2a7f8968a",
   "metadata": {},
   "source": [
    "### Current Tasks\n",
    "- Practise reading pcap files.\n",
    "- Figure out a way to capture pcap files from the notebook.\n",
    "- Identify indicators of compromise.\n",
    "- Parallel processing?"
   ]
  },
  {
   "cell_type": "markdown",
   "id": "5322a109-04be-44ad-b563-1c3ae9e91b2d",
   "metadata": {},
   "source": [
    "## Code:"
   ]
  },
  {
   "cell_type": "code",
   "execution_count": 1,
   "id": "89056a60-4bcd-4c53-829d-c0e2e6263845",
   "metadata": {},
   "outputs": [],
   "source": [
    "#Imports\n",
    "from scapy.all import *\n",
    "from scapy.utils import PcapReader\n",
    "import os, psutil, statistics, multiprocessing\n",
    "import pandas as pd\n",
    "import numpy as np\n",
    "from prepare import *\n",
    "from analize import *\n"
   ]
  },
  {
   "cell_type": "code",
   "execution_count": 2,
   "id": "387b8ace-93eb-42fa-ac1f-53aa4f419016",
   "metadata": {},
   "outputs": [],
   "source": [
    "#Preferences\n",
    "pd.set_option('display.max_rows', None)\n",
    "pd.set_option('display.max_columns', None)\n",
    "pd.set_option('display.float_format', lambda x: f'{x:.3f}')"
   ]
  },
  {
   "cell_type": "code",
   "execution_count": 3,
   "id": "e400cb2f-776d-425f-b4f4-fbb2a371c066",
   "metadata": {},
   "outputs": [],
   "source": [
    "#Get traffic data in CSV format:\n",
    "load_data = False\n",
    "if load_data == True:\n",
    "    mon0 = fixing_col_names(pd.read_csv(\"csv_files/Monday-WorkingHours.pcap_ISCX.csv\"))\n",
    "    tues0 = fixing_col_names(pd.read_csv(\"csv_files/Tuesday-WorkingHours.pcap_ISCX.csv\"))\n",
    "    wed0 = fixing_col_names(pd.read_csv(\"csv_files/Wednesday-WorkingHours.pcap_ISCX.csv\"))\n",
    "    thur0 = fixing_col_names(pd.read_csv(\"csv_files/Thursday-WorkingHours-Morning-WebAttacks.pcap_ISCX.csv\"))\n",
    "    thur1 = fixing_col_names(pd.read_csv(\"csv_files/Thursday-WorkingHours-Afternoon-Infilteration.pcap_ISCX.csv\"))\n",
    "    fri0 = fixing_col_names(pd.read_csv(\"csv_files/Friday-WorkingHours-Morning.pcap_ISCX.csv\"))\n",
    "    fri1 = fixing_col_names(pd.read_csv(\"csv_files/Friday-WorkingHours-Afternoon-DDos.pcap_ISCX.csv\"))\n",
    "    fri2 = fixing_col_names(pd.read_csv(\"csv_files/Friday-WorkingHours-Afternoon-PortScan.pcap_ISCX.csv\"))"
   ]
  },
  {
   "cell_type": "code",
   "execution_count": 4,
   "id": "1749111c-8659-40e5-941b-31ae0f1a0fd4",
   "metadata": {},
   "outputs": [
    {
     "name": "stdout",
     "output_type": "stream",
     "text": [
      "Pcap file size: 8.839 GB\n",
      "Pcap file size: 10.823 GB\n",
      "Pcap file size: 0.047 GB\n",
      "Pcap file size: 8.303 GB\n",
      "Pcap file size: 11.048 GB\n",
      "Pcap file size: 13.421 GB\n",
      "Available memory: 23.910 GB\n"
     ]
    }
   ],
   "source": [
    "#Measuring size of pcap files:\n",
    "for file in os.listdir(\"pcap_files\"):\n",
    "    print(f\"Pcap file size: {os.path.getsize(f'pcap_files//{file}')/1_000_000_000:.3f} GB\")\n",
    "\n",
    "#System memory:\n",
    "print(f\"Available memory: {psutil.virtual_memory()[1]/1_000_000_000:.3f} GB\")"
   ]
  },
  {
   "cell_type": "code",
   "execution_count": 5,
   "id": "1e55845b-6a24-445e-81b1-7b5504d4a7ea",
   "metadata": {},
   "outputs": [],
   "source": [
    "#`PcapReader()` iterates though the pcap entries. Creates generator object.\n",
    "#`rdpcap()` loads all pcap entries in memory at once. Takes a very long time and can fill up memory."
   ]
  },
  {
   "cell_type": "code",
   "execution_count": 6,
   "id": "06c2a48f-1837-45ca-a5f6-c4ee7057a298",
   "metadata": {},
   "outputs": [],
   "source": [
    "#Setting global variables for data collection:\n",
    "i = 0\n",
    "dns_counts = {}\n",
    "ip_counts = {}\n",
    "seq_counts = {}"
   ]
  },
  {
   "cell_type": "code",
   "execution_count": 7,
   "id": "38899329-3395-48f7-9373-3cc309a87700",
   "metadata": {},
   "outputs": [],
   "source": [
    "#Generator object for pcap file:\n",
    "captured_packets = PcapReader(\"pcap_files/Friday-WorkingHours.pcap\")"
   ]
  },
  {
   "cell_type": "code",
   "execution_count": null,
   "id": "291e951a-3fc8-47f9-89e5-b3577d64a57f",
   "metadata": {},
   "outputs": [],
   "source": [
    "#Building functions\n",
    "def get_ioc_counts(chunk):\n",
    "    \"\"\"\n",
    "    Checks a chunk of packets for indicators of compromise.\n",
    "    Returns a counts dictionary for each indicator (3 so far).\n",
    "    \"\"\"\n",
    "    dns_counts = {}\n",
    "    ip_counts = {}\n",
    "    seq_counts = {}\n",
    "    \n",
    "    #Looking for indicators of compromise in pcap:\n",
    "    for packet in captured_packets:\n",
    "        if packet.haslayer(IP):\n",
    "            #DNS replies that contain no answer (NXDOMAIN errors):\n",
    "            if packet.haslayer(DNS) and (packet[DNS].qr == 1) and (packet[DNS].ancount == 0):\n",
    "                dns = packet[IP].dst\n",
    "                dns_counts[IP] = dns_counts.get(dns, 0) + 1\n",
    "    \n",
    "        #IP addresses that send a lot of packets:\n",
    "            ip = packet[IP].src\n",
    "            ip_counts[IP] = ip_counts.get(ip, 0) + 1\n",
    "    \n",
    "        #Repeated TCP sequence numbers:\n",
    "        if packet.haslayer(TCP):\n",
    "            seq = packet[TCP].seq\n",
    "            seq_counts[seq] = seq_counts.get(seq, 0) + 1\n",
    "    \n",
    "    return dns_counts, ip_counts, seq_counts"
   ]
  },
  {
   "cell_type": "code",
   "execution_count": null,
   "id": "69e330ed-efd5-4dd4-913d-f3815555c48d",
   "metadata": {},
   "outputs": [],
   "source": [
    "#Building functions\n",
    "def set_threshold(packet_counts, sigma_value = 3, default_threshold = 25, print_stats = False):\n",
    "    \"\"\"\n",
    "\n",
    "    \"\"\"\n",
    "    #Setting the threshold at 99.7% to identify packets:\n",
    "    if len(packet_counts) < 2:\n",
    "        threshold = default_threshold\n",
    "    else:\n",
    "        mean = statistics.mean(packet_counts.values())\n",
    "        stddev = statistics.stdev(packet_counts.values())\n",
    "        threshold = mean + sigma_value * stdev\n",
    "    if print_stats == True:\n",
    "        print(f\"The threshold is: {threshold}\")\n",
    "        \n",
    "    return threshold"
   ]
  },
  {
   "cell_type": "code",
   "execution_count": null,
   "id": "d761f4dd-9570-4b95-b850-a30c5bffc1d6",
   "metadata": {},
   "outputs": [],
   "source": [
    "#Building functions\n",
    "def eval_packets(threshold, packet_counts, print_stats = False):\n",
    "    #Checking packets against thresholds:\n",
    "    suspicious = []\n",
    "    #DNS\n",
    "    for sus_item, occurrences in dns_counts.items():\n",
    "        if occurrences < dns_threshold:\n",
    "            continue\n",
    "        suspicious.append(sus_item)\n",
    "    if print_stats == True:\n",
    "        print(len(suspicious))\n",
    "    return suspicious"
   ]
  },
  {
   "cell_type": "code",
   "execution_count": null,
   "id": "a53a098c-700e-4718-a3c1-477b795adadd",
   "metadata": {},
   "outputs": [],
   "source": []
  },
  {
   "cell_type": "code",
   "execution_count": null,
   "id": "0877ec9b-8c5b-46a5-b458-8c236298dc64",
   "metadata": {},
   "outputs": [],
   "source": []
  },
  {
   "cell_type": "code",
   "execution_count": null,
   "id": "e5e183d3-017c-48dc-8678-bdc8ea5c0ce2",
   "metadata": {},
   "outputs": [],
   "source": []
  },
  {
   "cell_type": "code",
   "execution_count": null,
   "id": "7b30d648-c391-4175-b3a5-dd63c81733a8",
   "metadata": {},
   "outputs": [],
   "source": [
    "#Looking for indicators of compromise in pcap:\n",
    "for packet in captured_packets:\n",
    "    if packet.haslayer(IP):\n",
    "        #DNS replies that contain no answer (NXDOMAIN errors):\n",
    "        if packet.haslayer(DNS) and (packet[DNS].qr == 1) and (packet[DNS].ancount == 0):\n",
    "            dns = packet[IP].dst\n",
    "            dns_counts[IP] = dns_counts.get(dns, 0) + 1\n",
    "\n",
    "    #IP addresses that send a lot of packets:\n",
    "        ip = packet[IP].src\n",
    "        ip_counts[IP] = ip_counts.get(ip, 0) + 1\n",
    "\n",
    "    #Repeated TCP sequence numbers:\n",
    "    if packet.haslayer(TCP):\n",
    "        seq = packet[TCP].seq\n",
    "        seq_counts[seq] = seq_counts.get(seq, 0) + 1\n",
    "    #Progress updates:\n",
    "    i += 1\n",
    "    if i % 1_000_000 == 0:\n",
    "        print(f\"{i} packets processed\")"
   ]
  },
  {
   "cell_type": "code",
   "execution_count": null,
   "id": "dd9711b5-0dbc-4d31-8de5-3974f155ed28",
   "metadata": {},
   "outputs": [],
   "source": [
    "#Establishing a threshold at 99.7% or three standard deviations from the mean.\n",
    "if len(dns_counts) < 2:\n",
    "    dns_threshold = 25\n",
    "else:\n",
    "    dns_mean = statistics.mean(dns_counts.values())\n",
    "    dns_stddev = statistics.stdev(dns_counts.values())\n",
    "    dns_threshold = dns_mean + 3 * dns_stdev\n",
    "\n",
    "print(f\"The DNS threshold is: {dns_threshold}\")"
   ]
  },
  {
   "cell_type": "code",
   "execution_count": null,
   "id": "739d449f-e63a-41cf-916e-9b82452008dc",
   "metadata": {},
   "outputs": [],
   "source": [
    "#Establish the threshold for IP addresses that send lots of packets:\n",
    "if len(ip_counts) < 2:\n",
    "    ip_threshold = 25\n",
    "else:\n",
    "    ip_mean = statistics.mean(ip_counts.values())\n",
    "    ip_stddev = statistics.stdev(ip_counts.values())\n",
    "    ip_threshold = ip_mean + 3 * ip_stdev\n",
    "\n",
    "print(f\"The IP threshold is: {ip_threshold}\")"
   ]
  },
  {
   "cell_type": "code",
   "execution_count": 11,
   "id": "3cf7a9eb-39f2-444f-99f0-be9f6068b42e",
   "metadata": {},
   "outputs": [
    {
     "name": "stdout",
     "output_type": "stream",
     "text": [
      "The sequence threshold is: 429.372\n"
     ]
    }
   ],
   "source": [
    "#Establish threshold for repeated TCP sequence numbers:\n",
    "if len(seq_counts) < 2:\n",
    "    seq_threshold = 25\n",
    "else:\n",
    "    seq_mean = statistics.mean(seq_counts.values())\n",
    "    seq_stddev = statistics.stdev(seq_counts.values())\n",
    "    seq_threshold = seq_mean + 4 * seq_stddev\n",
    "\n",
    "print(f\"The sequence threshold is: {seq_threshold:.3f}\")"
   ]
  },
  {
   "cell_type": "code",
   "execution_count": 12,
   "id": "ec84ab58-6c57-40b3-87b1-4b3152c0a2a3",
   "metadata": {},
   "outputs": [],
   "source": [
    "#Checking packets against thresholds:\n",
    "dns_suspicious = []\n",
    "ip_suspicious = []\n",
    "seq_suspicious = []\n",
    "for ip_addy, occurrences in dns_counts.items():\n",
    "    if occurrences < dns_threshold:\n",
    "        continue\n",
    "    dns_suspicious.append(ip_addy)\n",
    "\n",
    "for ip_addy, occurrences in ip_counts.items():\n",
    "    if occurrences < ip_threshold:\n",
    "        continue\n",
    "    ip_suspicious.append(ip_addy)\n",
    "\n",
    "for seq, occurrences in seq_counts.items():\n",
    "    if occurrences < seq_threshold:\n",
    "        continue\n",
    "    seq_suspicious.append(seq)"
   ]
  },
  {
   "cell_type": "code",
   "execution_count": 13,
   "id": "fdc74a2d-7227-40ed-810e-f349e0e2f66b",
   "metadata": {},
   "outputs": [
    {
     "name": "stdout",
     "output_type": "stream",
     "text": [
      "0\n",
      "------------------------------\n",
      "0\n",
      "------------------------------\n",
      "806\n"
     ]
    }
   ],
   "source": [
    "print(len(dns_suspicious))\n",
    "print(\"------------------------------\")\n",
    "print(len(ip_suspicious))\n",
    "print(\"------------------------------\")\n",
    "print(len(seq_suspicious))"
   ]
  },
  {
   "cell_type": "code",
   "execution_count": 14,
   "id": "0bb6ab0a-0c6f-410a-8b64-1cb07a33e06b",
   "metadata": {},
   "outputs": [],
   "source": [
    "#Generators must be reinitialize to iterate through again:\n",
    "captured_packets = PcapReader(\"pcap_files/Friday-WorkingHours.pcap\")"
   ]
  },
  {
   "cell_type": "code",
   "execution_count": 15,
   "id": "0c99ad20-7431-4817-8bef-cd10aeb67164",
   "metadata": {},
   "outputs": [],
   "source": [
    "sus_packets = []"
   ]
  },
  {
   "cell_type": "code",
   "execution_count": 16,
   "id": "24c575ff-f390-4e2e-b2f1-70bd514f6cef",
   "metadata": {},
   "outputs": [
    {
     "name": "stdout",
     "output_type": "stream",
     "text": [
      "1000000 packets processed\n",
      "2000000 packets processed\n",
      "3000000 packets processed\n",
      "4000000 packets processed\n",
      "5000000 packets processed\n",
      "6000000 packets processed\n",
      "7000000 packets processed\n",
      "8000000 packets processed\n",
      "9000000 packets processed\n"
     ]
    }
   ],
   "source": [
    "j = 0\n",
    "dns_suspicious = set(dns_suspicious)\n",
    "ip_suspicious = set(ip_suspicious)\n",
    "seq_suspicious = set(seq_suspicious)\n",
    "\n",
    "for packet in captured_packets:\n",
    "    #Add section to collect suspicious DNS packets\n",
    "    #Add section to collect suspicious IP packets\n",
    "\n",
    "    #Collect packets with suspicious TCP sequence numbers:\n",
    "    if packet.haslayer(TCP) and (int(packet[TCP].seq) in seq_suspicious):\n",
    "        sus_packets.append(packet)\n",
    "\n",
    "    #Progress updates:\n",
    "    j += 1\n",
    "    if j % 1_000_000 == 0:\n",
    "        print(f\"{j} packets processed\")"
   ]
  },
  {
   "cell_type": "code",
   "execution_count": 17,
   "id": "b4111a33-5ca4-489f-9d5c-6d4a91c5ec77",
   "metadata": {},
   "outputs": [],
   "source": [
    "sus_df = packets_to_dataframe(sus_packets)"
   ]
  },
  {
   "cell_type": "code",
   "execution_count": 18,
   "id": "3cecf39c-f594-42b0-9b7a-c5a984353255",
   "metadata": {},
   "outputs": [
    {
     "data": {
      "text/plain": [
       "Src_MAC     b8:ac:6f:1d:1f:6c\n",
       "Dst_MAC     00:c1:b1:14:eb:31\n",
       "Src_IP           192.168.10.9\n",
       "Dst_IP        206.126.112.141\n",
       "Src_Port                 1098\n",
       "Dst_Port                  443\n",
       "Name: 0, dtype: object"
      ]
     },
     "execution_count": 18,
     "metadata": {},
     "output_type": "execute_result"
    }
   ],
   "source": [
    "sus_df.iloc[0]"
   ]
  },
  {
   "cell_type": "code",
   "execution_count": 19,
   "id": "4e3bd21e-d117-475d-991e-43e08024f585",
   "metadata": {},
   "outputs": [
    {
     "data": {
      "text/plain": [
       "00:1e:4f:d4:ca:28    1291839\n",
       "00:19:b9:0a:69:f1     158798\n",
       "00:c1:b1:14:eb:31      83314\n",
       "00:25:00:a8:c4:60      64121\n",
       "b8:ac:6f:36:07:ee      23702\n",
       "00:23:ae:9b:8a:bf      20009\n",
       "b8:ac:6f:36:04:e3      18821\n",
       "b8:ac:6f:1d:1f:6c      15053\n",
       "b8:ac:6f:36:08:f5      13052\n",
       "b8:ac:6f:36:0a:8b      11038\n",
       "00:23:ae:9b:95:67       1784\n",
       "00:23:ae:9b:ad:b3       1260\n",
       "Name: Src_MAC, dtype: int64"
      ]
     },
     "execution_count": 19,
     "metadata": {},
     "output_type": "execute_result"
    }
   ],
   "source": [
    "sus_df.Src_MAC.value_counts()"
   ]
  },
  {
   "cell_type": "code",
   "execution_count": 20,
   "id": "eac10b92-0585-49db-ba5f-8e506deb0886",
   "metadata": {},
   "outputs": [
    {
     "data": {
      "text/plain": [
       "00:c1:b1:14:eb:31    1619477\n",
       "00:19:b9:0a:69:f1      78756\n",
       "00:1e:4f:d4:ca:28       1238\n",
       "b8:ac:6f:36:08:f5       1208\n",
       "b8:ac:6f:36:0a:8b        665\n",
       "b8:ac:6f:36:07:ee        649\n",
       "b8:ac:6f:1d:1f:6c        647\n",
       "00:23:ae:9b:95:67         59\n",
       "b8:ac:6f:36:04:e3         34\n",
       "00:23:ae:9b:8a:bf         24\n",
       "00:23:ae:9b:ad:b3         22\n",
       "00:25:00:a8:c4:60         12\n",
       "Name: Dst_MAC, dtype: int64"
      ]
     },
     "execution_count": 20,
     "metadata": {},
     "output_type": "execute_result"
    }
   ],
   "source": [
    "sus_df.Dst_MAC.value_counts()"
   ]
  },
  {
   "cell_type": "code",
   "execution_count": 21,
   "id": "39d949b3-5da6-43ec-bd11-cef54620f889",
   "metadata": {},
   "outputs": [
    {
     "data": {
      "text/plain": [
       "192.168.10.15      1291839\n",
       "192.168.10.50       158798\n",
       "172.16.0.1           78756\n",
       "192.168.10.25        64121\n",
       "192.168.10.14        23702\n",
       "192.168.10.16        20009\n",
       "192.168.10.12        18821\n",
       "192.168.10.9         15053\n",
       "192.168.10.8         13052\n",
       "192.168.10.5         11038\n",
       "205.174.165.73        3908\n",
       "192.168.10.17         1784\n",
       "192.168.10.19         1260\n",
       "200.61.221.226          38\n",
       "174.37.200.231          36\n",
       "198.105.254.11          32\n",
       "198.105.244.11          29\n",
       "52.2.143.27             26\n",
       "200.144.6.216           24\n",
       "52.8.72.161             19\n",
       "52.52.96.7              18\n",
       "210.140.236.12          17\n",
       "210.140.236.11          14\n",
       "52.209.203.172          14\n",
       "52.18.141.29            14\n",
       "162.255.119.249         14\n",
       "116.213.76.136          13\n",
       "210.140.236.10          13\n",
       "121.40.44.206           13\n",
       "66.235.121.175          12\n",
       "117.25.130.180          12\n",
       "176.53.21.90            12\n",
       "185.4.227.115           12\n",
       "185.189.12.242          12\n",
       "125.6.190.6             12\n",
       "54.208.60.220           12\n",
       "218.248.240.47          12\n",
       "104.254.87.63           12\n",
       "52.20.119.14            12\n",
       "104.254.87.60           12\n",
       "34.206.37.216           12\n",
       "34.192.204.170          12\n",
       "185.4.227.114           11\n",
       "49.5.5.115              11\n",
       "101.201.103.96          11\n",
       "146.186.157.6           10\n",
       "198.84.60.134           10\n",
       "69.64.147.32             9\n",
       "85.159.232.5             9\n",
       "198.84.60.136            9\n",
       "176.53.21.93             9\n",
       "114.80.165.63            7\n",
       "198.84.60.137            6\n",
       "52.71.164.162            6\n",
       "103.224.182.245          5\n",
       "52.70.78.204             4\n",
       "34.230.165.183           4\n",
       "188.92.40.78             4\n",
       "37.1.201.235             4\n",
       "5.196.161.205            3\n",
       "151.101.0.204            3\n",
       "52.4.125.51              3\n",
       "52.73.40.4               3\n",
       "34.196.87.28             3\n",
       "52.20.169.71             3\n",
       "151.101.192.204          3\n",
       "151.101.64.204           3\n",
       "151.101.128.204          3\n",
       "23.234.51.145            2\n",
       "46.166.142.171           1\n",
       "174.129.29.90            1\n",
       "Name: Src_IP, dtype: int64"
      ]
     },
     "execution_count": 21,
     "metadata": {},
     "output_type": "execute_result"
    }
   ],
   "source": [
    "sus_df.Src_IP.value_counts()"
   ]
  },
  {
   "cell_type": "code",
   "execution_count": 22,
   "id": "71c229c0-f92b-48cd-beaa-f47690ce0a84",
   "metadata": {},
   "outputs": [
    {
     "data": {
      "text/plain": [
       "13.107.4.50        1058466\n",
       "8.253.104.126       181156\n",
       "172.16.0.1          158798\n",
       "192.168.10.50        78756\n",
       "192.99.204.26        56290\n",
       "162.125.4.6          31189\n",
       "23.15.4.9            24437\n",
       "91.189.88.162        16804\n",
       "91.189.88.161        15473\n",
       "23.15.4.17            7232\n",
       "151.101.128.223       6015\n",
       "209.58.138.15         5887\n",
       "209.48.71.154         4147\n",
       "52.84.26.193          3628\n",
       "210.158.199.65        3346\n",
       "178.239.182.230       3240\n",
       "195.218.200.139       2899\n",
       "52.219.0.28           2128\n",
       "23.15.4.16            2039\n",
       "192.0.77.2            1888\n",
       "104.16.39.35          1558\n",
       "205.185.208.154       1373\n",
       "208.111.171.236       1321\n",
       "104.16.181.67         1287\n",
       "192.168.10.15         1238\n",
       "23.203.70.225         1230\n",
       "199.244.48.55         1230\n",
       "206.126.112.141       1220\n",
       "192.168.10.8          1208\n",
       "52.84.145.177         1189\n",
       "52.219.4.112          1116\n",
       "202.247.51.62         1091\n",
       "62.241.12.20          1058\n",
       "47.89.68.225          1050\n",
       "23.15.4.19            1033\n",
       "23.15.4.10            1031\n",
       "104.27.143.149        1002\n",
       "52.219.0.16            924\n",
       "192.99.239.194         897\n",
       "23.237.33.23           817\n",
       "203.205.158.25         772\n",
       "173.194.131.76         708\n",
       "192.168.10.5           665\n",
       "192.168.10.14          649\n",
       "192.168.10.9           647\n",
       "23.194.142.125         626\n",
       "192.33.31.192          607\n",
       "209.85.225.171         605\n",
       "151.101.128.143        605\n",
       "52.218.144.72          595\n",
       "208.91.113.45          591\n",
       "52.84.143.13           567\n",
       "23.194.181.23          558\n",
       "104.16.100.29          555\n",
       "151.101.0.175          551\n",
       "151.101.46.84          543\n",
       "79.127.127.5           540\n",
       "17.164.1.22            506\n",
       "151.101.0.143          488\n",
       "210.152.158.1          482\n",
       "52.84.145.48           479\n",
       "151.101.0.223          474\n",
       "52.84.145.164          456\n",
       "38.69.238.10           453\n",
       "72.21.91.103           451\n",
       "104.97.125.160         449\n",
       "192.229.162.45         446\n",
       "59.144.22.50           445\n",
       "52.84.145.136          436\n",
       "192.168.10.17           59\n",
       "192.168.10.12           34\n",
       "192.168.10.16           24\n",
       "192.168.10.19           22\n",
       "192.168.10.25           12\n",
       "Name: Dst_IP, dtype: int64"
      ]
     },
     "execution_count": 22,
     "metadata": {},
     "output_type": "execute_result"
    }
   ],
   "source": [
    "sus_df.Dst_IP.value_counts()"
   ]
  },
  {
   "cell_type": "code",
   "execution_count": 23,
   "id": "80fbf307-f7f1-4a26-9293-6ba4ca7a5885",
   "metadata": {},
   "outputs": [],
   "source": [
    "#View traffic from csv files\n",
    "#mon0.head()\n",
    "#tues0.head()\n",
    "#wed0.head()\n",
    "#thur0.head()\n",
    "#thur1.head()\n",
    "#fri0.head()\n",
    "#fri1.head()\n",
    "#fri2.head()"
   ]
  },
  {
   "cell_type": "code",
   "execution_count": 24,
   "id": "37deadd3-b3ab-4fea-b64c-e60fdef36221",
   "metadata": {},
   "outputs": [],
   "source": [
    "#tues0[tues0[\"Label\"] == \"FTP-Patator\"].describe().T"
   ]
  },
  {
   "cell_type": "code",
   "execution_count": 25,
   "id": "04560394-ddad-4e09-98b0-96ff955d4d41",
   "metadata": {},
   "outputs": [],
   "source": [
    "#mon0[\"Label\"].value_counts()"
   ]
  },
  {
   "cell_type": "code",
   "execution_count": 26,
   "id": "3012497c-a9c4-439f-b280-2dc2ddd58db6",
   "metadata": {},
   "outputs": [],
   "source": [
    "#tues0[\"Label\"].value_counts()"
   ]
  },
  {
   "cell_type": "code",
   "execution_count": 27,
   "id": "859faf27-165f-4168-8c94-e5d21c3fccb1",
   "metadata": {},
   "outputs": [],
   "source": [
    "#wed0[\"Label\"].value_counts()"
   ]
  },
  {
   "cell_type": "code",
   "execution_count": 28,
   "id": "928c032d-38e9-4e2b-9fd2-500e70041ae5",
   "metadata": {},
   "outputs": [],
   "source": [
    "#thur0[\"Label\"].value_counts()"
   ]
  },
  {
   "cell_type": "code",
   "execution_count": 29,
   "id": "b865b100-8ccd-43a2-90f8-a2826a296e70",
   "metadata": {},
   "outputs": [],
   "source": [
    "#thur1[\"Label\"].value_counts()"
   ]
  },
  {
   "cell_type": "code",
   "execution_count": 30,
   "id": "aabc4f6f-3b22-4b4a-bdf1-4b2548fb335a",
   "metadata": {},
   "outputs": [],
   "source": [
    "#fri0[\"Label\"].value_counts()"
   ]
  },
  {
   "cell_type": "code",
   "execution_count": 31,
   "id": "59884b90-67c8-4cd7-9196-8262a54dbf07",
   "metadata": {},
   "outputs": [],
   "source": [
    "#fri1[\"Label\"].value_counts()"
   ]
  },
  {
   "cell_type": "code",
   "execution_count": 32,
   "id": "076f2e10-925f-4550-b8b5-50791efbe936",
   "metadata": {},
   "outputs": [],
   "source": [
    "#fri2[\"Label\"].value_counts()"
   ]
  },
  {
   "cell_type": "code",
   "execution_count": null,
   "id": "66601bb3-4613-44ba-a0d2-3ee76728f1a7",
   "metadata": {},
   "outputs": [],
   "source": []
  }
 ],
 "metadata": {
  "kernelspec": {
   "display_name": "Python 3 (ipykernel)",
   "language": "python",
   "name": "python3"
  },
  "language_info": {
   "codemirror_mode": {
    "name": "ipython",
    "version": 3
   },
   "file_extension": ".py",
   "mimetype": "text/x-python",
   "name": "python",
   "nbconvert_exporter": "python",
   "pygments_lexer": "ipython3",
   "version": "3.10.9"
  }
 },
 "nbformat": 4,
 "nbformat_minor": 5
}
