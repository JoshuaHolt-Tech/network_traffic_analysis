{
 "cells": [
  {
   "cell_type": "markdown",
   "id": "ba899145-0c6b-4b16-82a0-a70a634dc451",
   "metadata": {},
   "source": [
    "# Objective: \n",
    "\n",
    "The aim is to analyze network traffic to detect any anomalies or suspicious activities."
   ]
  },
  {
   "cell_type": "markdown",
   "id": "56ef0ba4-4353-4f5a-8d50-983a81866089",
   "metadata": {},
   "source": [
    "## Data: \n",
    "\n",
    "CICIDS 2017 dataset, which includes a wide range of attacks and normal traffic. It's available here:\n",
    "\n",
    "https://www.unb.ca/cic/datasets/ids-2017.html"
   ]
  },
  {
   "cell_type": "markdown",
   "id": "ab54c111-954f-4502-9b3c-7b392586ab17",
   "metadata": {},
   "source": [
    "## Procedure: \n",
    "\n",
    "Acquire from https://www.unb.ca/cic/datasets/ids-2017.html.\n",
    "\n",
    "Preprocess\n",
    "\n",
    "Exploratory data analysis\n",
    "\n",
    "Classification machine learning algorithms:\n",
    "- Logistic Regression\n",
    "- Random Forest\n",
    "- Gradient Boosting\n",
    "- XGBoost\n"
   ]
  },
  {
   "cell_type": "markdown",
   "id": "a55a043a-1258-47bf-a52e-638dffbda433",
   "metadata": {},
   "source": [
    "## Resources:"
   ]
  },
  {
   "cell_type": "markdown",
   "id": "ed6b94da-d35d-4346-b5ad-a17514311118",
   "metadata": {},
   "source": [
    "### Websites:\n",
    "\n",
    "https://www.studytonight.com/network-programming-in-python/analyzing-network-traffic\n",
    "https://plainenglish.io/blog/network-traffic-analysis-with-python-f95ed4e76c28\n",
    "\n",
    "#### pcap files into DataFrames:\n",
    "\n",
    "https://www.automox.com/blog/visualizing-network-data-using-python-part-1\n",
    "\n",
    "https://www.automox.com/blog/visualizing-network-data-using-python-part-2\n",
    "\n",
    "https://www.automox.com/blog/visualizing-network-data-using-python-part-3\n",
    "\n",
    "#### Network Traffic Visualization (Geolocation):\n",
    "https://medium.com/vinsloev-academy/python-cybersecurity-network-tracking-using-wireshark-and-google-maps-2adf3e497a93\n",
    "\n",
    "#### Examples for malware traffic analysis:\n",
    "https://www.malware-traffic-analysis.net/2021/index.html\n",
    "\n",
    "#### Specific indicator of compromise:\n",
    "https://cylab.be/blog/245/network-traffic-analysis-with-python-scapy-and-some-machine-learning\n",
    "\n",
    "### YouTube:\n",
    "https://www.youtube.com/watch?v=oA7QhYOhW_0\n",
    "https://www.youtube.com/watch?v=xuNuy8n8u-Y\n",
    "\n",
    "### LinkedIn Learning:\n",
    "https://www.linkedin.com/learning/applied-ai-for-it-operations-aiops/network-traffic-analysis\n",
    "\n",
    "### Books:\n",
    "https://www.techtarget.com/searchnetworking/feature/Learn-how-to-master-network-traffic-analysis-with-Python"
   ]
  },
  {
   "cell_type": "markdown",
   "id": "c877e0d5-5d3e-441b-b2eb-9234a791c3ea",
   "metadata": {},
   "source": [
    "Research paper:\n",
    "https://www.scitepress.org/papers/2018/66398/66398.pdf"
   ]
  },
  {
   "cell_type": "markdown",
   "id": "7e299ef6-b90d-433a-bfb5-e2f2a7f8968a",
   "metadata": {},
   "source": [
    "### Current Tasks\n",
    "- Practise reading pcap files.\n",
    "- Figure out a way to capture pcap files from the notebook.\n",
    "- Identify indicators of compromise."
   ]
  },
  {
   "cell_type": "markdown",
   "id": "5322a109-04be-44ad-b563-1c3ae9e91b2d",
   "metadata": {},
   "source": [
    "## Code:"
   ]
  },
  {
   "cell_type": "code",
   "execution_count": 1,
   "id": "89056a60-4bcd-4c53-829d-c0e2e6263845",
   "metadata": {},
   "outputs": [],
   "source": [
    "#Imports\n",
    "from scapy.all import *\n",
    "from collections import Counter\n",
    "from prettytable import PrettyTable\n",
    "import plotly, os, psutil, statistics\n",
    "from datetime import datetime\n",
    "import pandas as pd\n",
    "import numpy as np\n",
    "from prepare import *\n",
    "import networkx"
   ]
  },
  {
   "cell_type": "code",
   "execution_count": 2,
   "id": "387b8ace-93eb-42fa-ac1f-53aa4f419016",
   "metadata": {},
   "outputs": [],
   "source": [
    "#Preferences\n",
    "pd.set_option('display.max_rows', None)\n",
    "pd.set_option('display.max_columns', None)\n",
    "pd.set_option('display.float_format', lambda x: f'{x:.3f}')"
   ]
  },
  {
   "cell_type": "code",
   "execution_count": 3,
   "id": "e400cb2f-776d-425f-b4f4-fbb2a371c066",
   "metadata": {},
   "outputs": [],
   "source": [
    "#Get traffic data:\n",
    "load_data = False\n",
    "if load_data == True:\n",
    "    mon0 = fixing_col_names(pd.read_csv(\"csv_files/Monday-WorkingHours.pcap_ISCX.csv\"))\n",
    "    tues0 = fixing_col_names(pd.read_csv(\"csv_files/Tuesday-WorkingHours.pcap_ISCX.csv\"))\n",
    "    wed0 = fixing_col_names(pd.read_csv(\"csv_files/Wednesday-WorkingHours.pcap_ISCX.csv\"))\n",
    "    thur0 = fixing_col_names(pd.read_csv(\"csv_files/Thursday-WorkingHours-Morning-WebAttacks.pcap_ISCX.csv\"))\n",
    "    thur1 = fixing_col_names(pd.read_csv(\"csv_files/Thursday-WorkingHours-Afternoon-Infilteration.pcap_ISCX.csv\"))\n",
    "    fri0 = fixing_col_names(pd.read_csv(\"csv_files/Friday-WorkingHours-Morning.pcap_ISCX.csv\"))\n",
    "    fri1 = fixing_col_names(pd.read_csv(\"csv_files/Friday-WorkingHours-Afternoon-DDos.pcap_ISCX.csv\"))\n",
    "    fri2 = fixing_col_names(pd.read_csv(\"csv_files/Friday-WorkingHours-Afternoon-PortScan.pcap_ISCX.csv\"))"
   ]
  },
  {
   "cell_type": "code",
   "execution_count": 4,
   "id": "1749111c-8659-40e5-941b-31ae0f1a0fd4",
   "metadata": {},
   "outputs": [
    {
     "name": "stdout",
     "output_type": "stream",
     "text": [
      "Pcap file size: 8.839 GB\n",
      "Pcap file size: 10.823 GB\n",
      "Pcap file size: 8.303 GB\n",
      "Pcap file size: 11.048 GB\n",
      "Pcap file size: 13.421 GB\n",
      "Available memory: 23.260 GB\n"
     ]
    }
   ],
   "source": [
    "for file in os.listdir(\"pcap_files\"):\n",
    "    print(f\"Pcap file size: {os.path.getsize(f'pcap_files//{file}')/1_000_000_000:.3f} GB\")\n",
    "print(f\"Available memory: {psutil.virtual_memory()[1]/1_000_000_000:.3f} GB\")"
   ]
  },
  {
   "cell_type": "code",
   "execution_count": 5,
   "id": "1e55845b-6a24-445e-81b1-7b5504d4a7ea",
   "metadata": {},
   "outputs": [],
   "source": [
    "#`PcapReader()` iterates though the pcap entries. Creates generator object.\n",
    "#`rdpcap()` loads all pcap entries in memory at once. Takes a very long time and can fill up memory."
   ]
  },
  {
   "cell_type": "code",
   "execution_count": null,
   "id": "39bacceb-e22d-4033-a985-95a2d46570ae",
   "metadata": {},
   "outputs": [],
   "source": []
  },
  {
   "cell_type": "code",
   "execution_count": 6,
   "id": "f4b99a35-43b5-4c07-be01-889664226b66",
   "metadata": {},
   "outputs": [],
   "source": [
    "i = 0\n",
    "dns_counts = {}\n",
    "ip_counts = {}\n",
    "seq_counts = {}\n",
    "captured_packets = PcapReader(\"pcap_files/Wednesday-WorkingHours.pcap\")"
   ]
  },
  {
   "cell_type": "code",
   "execution_count": null,
   "id": "9f998232-fe17-4414-a94e-14aeea33ac76",
   "metadata": {},
   "outputs": [],
   "source": [
    "#Checking for DNS replies that contain no answer (NXDOMAIN errors) or an indicator of compromise in pcap:\n",
    "for packet in captured_packets:\n",
    "    if packet.haslayer(DNS) and (packet[DNS].qr == 1) and (packet[DNS].ancount == 0):\n",
    "        dns = packet[IP].dst\n",
    "        dns_counts[IP] = dns_counts.get(dns, 0) + 1\n",
    "\n",
    "    #Looking for IP addresses that send a lot of packets:\n",
    "    if packet.haslayer(IP):\n",
    "        ip = packet[IP].src\n",
    "        ip_counts[IP] = ip_counts.get(ip, 0) + 1\n",
    "\n",
    "    if packet.haslayer(TCP):\n",
    "        seq = packet[TCP].seq\n",
    "        seq_counts[seq] = seq_counts.get(seq, 0) + 1\n",
    "    #Progress updates:\n",
    "    i += 1\n",
    "    if i % 1_000_000 == 0:\n",
    "        print(f\"{i} packets processed\")"
   ]
  },
  {
   "cell_type": "code",
   "execution_count": null,
   "id": "96f2fe46-c67b-49d1-9c34-efc0f677248d",
   "metadata": {},
   "outputs": [],
   "source": [
    "#Establishing a threshold at 99.7% or three standard deviations from the mean.\n",
    "if len(dns_counts.values) < 2:\n",
    "    dns_threshold = 25\n",
    "else:\n",
    "    dns_mean = statistics.mean(dns_counts.values())\n",
    "    dns_stddev = statistics.stdev(dns_counts.values())\n",
    "    dns_threshold = dns_mean + 3 * dns_stdev\n",
    "\n",
    "print(f\"The DNS threshold is: {dns_threshold}\")"
   ]
  },
  {
   "cell_type": "code",
   "execution_count": null,
   "id": "6d3bcbe6-80b5-4e8a-86a9-92516e320e7f",
   "metadata": {},
   "outputs": [],
   "source": [
    "#Establish the threshold for IP addresses that send lots of packets:\n",
    "if len(ip_counts.values) < 2:\n",
    "    ip_threshold = 25\n",
    "else:\n",
    "    ip_mean = statistics.mean(ip_counts.values())\n",
    "    ip_stddev = statistics.stdev(ip_counts.values())\n",
    "    ip_threshold = ip_mean + 3 * ip_stdev\n",
    "\n",
    "print(f\"The IP threshold is: {ip_threshold}\")"
   ]
  },
  {
   "cell_type": "code",
   "execution_count": null,
   "id": "3cf7a9eb-39f2-444f-99f0-be9f6068b42e",
   "metadata": {},
   "outputs": [],
   "source": [
    "#Establish threshold for repeated sequence numbers:\n",
    "if len(seq_counts.values) < 2:\n",
    "    seq_threshold = 25\n",
    "else:\n",
    "    seq_mean = statistics.mean(seq_counts.values())\n",
    "    seq_stddev = statistics.stdev(seq_counts.values())\n",
    "    seq_threshold = seq_mean + 4 * seq_stdev\n",
    "\n",
    "print(f\"The sequence threshold is: {seq_threshold}\")"
   ]
  },
  {
   "cell_type": "code",
   "execution_count": null,
   "id": "eca31a73-fd7d-4b74-ac97-af468d3c4d24",
   "metadata": {},
   "outputs": [],
   "source": [
    "#Checking packets against thresholds:\n",
    "dns_suspicious = []\n",
    "ip_suspicious = []\n",
    "seq_suspicious = []\n",
    "for ip_addy, occurrences in dns_counts.items():\n",
    "    if occurrences < dns_threshold:\n",
    "        continue\n",
    "    dns_suspicious.append(ip_addy)\n",
    "\n",
    "for ip_addy, occurrences in ip_counts.items():\n",
    "    if occurrences < ip_threshold:\n",
    "        continue\n",
    "    ip_suspicious.append(ip_addy)\n",
    "\n",
    "for seq, occurrences in seq_counts.items():\n",
    "    if occurrences < seq_threshold:\n",
    "        continue\n",
    "    seq_suspicious.append(seq)\n",
    "\n",
    "print(dns_suspicious)\n",
    "print(\"------------------------------\")\n",
    "print(ip_suspicious)\n",
    "print(\"------------------------------\")\n",
    "print(seq_suspicious)"
   ]
  },
  {
   "cell_type": "code",
   "execution_count": null,
   "id": "80fbf307-f7f1-4a26-9293-6ba4ca7a5885",
   "metadata": {},
   "outputs": [],
   "source": [
    "#View traffic from csv files\n",
    "#mon0.head()\n",
    "#tues0.head()\n",
    "#wed0.head()\n",
    "#thur0.head()\n",
    "#thur1.head()\n",
    "#fri0.head()\n",
    "#fri1.head()\n",
    "#fri2.head()"
   ]
  },
  {
   "cell_type": "code",
   "execution_count": null,
   "id": "37deadd3-b3ab-4fea-b64c-e60fdef36221",
   "metadata": {},
   "outputs": [],
   "source": [
    "#tues0[tues0[\"Label\"] == \"FTP-Patator\"].describe().T"
   ]
  },
  {
   "cell_type": "code",
   "execution_count": null,
   "id": "04560394-ddad-4e09-98b0-96ff955d4d41",
   "metadata": {},
   "outputs": [],
   "source": [
    "#mon0[\"Label\"].value_counts()"
   ]
  },
  {
   "cell_type": "code",
   "execution_count": null,
   "id": "3012497c-a9c4-439f-b280-2dc2ddd58db6",
   "metadata": {},
   "outputs": [],
   "source": [
    "#tues0[\"Label\"].value_counts()"
   ]
  },
  {
   "cell_type": "code",
   "execution_count": null,
   "id": "859faf27-165f-4168-8c94-e5d21c3fccb1",
   "metadata": {},
   "outputs": [],
   "source": [
    "#wed0[\"Label\"].value_counts()"
   ]
  },
  {
   "cell_type": "code",
   "execution_count": null,
   "id": "928c032d-38e9-4e2b-9fd2-500e70041ae5",
   "metadata": {},
   "outputs": [],
   "source": [
    "#thur0[\"Label\"].value_counts()"
   ]
  },
  {
   "cell_type": "code",
   "execution_count": null,
   "id": "b865b100-8ccd-43a2-90f8-a2826a296e70",
   "metadata": {},
   "outputs": [],
   "source": [
    "#thur1[\"Label\"].value_counts()"
   ]
  },
  {
   "cell_type": "code",
   "execution_count": null,
   "id": "aabc4f6f-3b22-4b4a-bdf1-4b2548fb335a",
   "metadata": {},
   "outputs": [],
   "source": [
    "#fri0[\"Label\"].value_counts()"
   ]
  },
  {
   "cell_type": "code",
   "execution_count": null,
   "id": "59884b90-67c8-4cd7-9196-8262a54dbf07",
   "metadata": {},
   "outputs": [],
   "source": [
    "#fri1[\"Label\"].value_counts()"
   ]
  },
  {
   "cell_type": "code",
   "execution_count": null,
   "id": "076f2e10-925f-4550-b8b5-50791efbe936",
   "metadata": {},
   "outputs": [],
   "source": [
    "#fri2[\"Label\"].value_counts()"
   ]
  },
  {
   "cell_type": "code",
   "execution_count": null,
   "id": "66601bb3-4613-44ba-a0d2-3ee76728f1a7",
   "metadata": {},
   "outputs": [],
   "source": []
  }
 ],
 "metadata": {
  "kernelspec": {
   "display_name": "Python 3 (ipykernel)",
   "language": "python",
   "name": "python3"
  },
  "language_info": {
   "codemirror_mode": {
    "name": "ipython",
    "version": 3
   },
   "file_extension": ".py",
   "mimetype": "text/x-python",
   "name": "python",
   "nbconvert_exporter": "python",
   "pygments_lexer": "ipython3",
   "version": "3.10.9"
  }
 },
 "nbformat": 4,
 "nbformat_minor": 5
}
